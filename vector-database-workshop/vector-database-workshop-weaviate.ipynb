{
 "cells": [
  {
   "cell_type": "markdown",
   "metadata": {},
   "source": [
    "# Vector Database Workshop with **Weaviate**"
   ]
  },
  {
   "cell_type": "markdown",
   "metadata": {},
   "source": [
    "## Introduction \n",
    "\n",
    "Welcome to this workshop about Vector Databases and Weaviate!\n",
    "\n",
    "This notebook is a hands-on tutorial to be used alongside an interactive Weaviate workshop. In this workshop and with this notebook you: learn what vector search is, perform your first semantic search with a prepared demo dataset and build your own vector search application.\n"
   ]
  },
  {
   "cell_type": "markdown",
   "metadata": {},
   "source": [
    "## Table of Contents\n",
    "1. What is a Vector Database?\n",
    "    1. Perform your first semantic search\n",
    "2. Build your first vector search application\n",
    "    1. Create a Weaviate cluster and connect to it\n",
    "    2. Get data and analyze it\n",
    "    3. Make a data schema\n",
    "    4. Vectorize & upload data\n",
    "    5. Query data\n",
    "3. Advanced search with Weaviate:\n",
    "    1. Data classification\n",
    "    2. Multi-modal search\n",
    "    3. Custom ML models"
   ]
  },
  {
   "cell_type": "markdown",
   "metadata": {},
   "source": [
    "## 1. What is a Vector Database?"
   ]
  },
  {
   "cell_type": "markdown",
   "metadata": {},
   "source": [
    "## 2. Build your first vector search application"
   ]
  },
  {
   "cell_type": "markdown",
   "metadata": {},
   "source": [
    "### 2.1 Create a Weaviate cluster and connect to it\n",
    "\n",
    "In order to build your own vector search application with Weaviate, you need a place to start and run the Weaviate instance. You can run Weaviate on you local machine or your cloud provider, or you can run a Weaviate instance using the Weaviate Cluster Service (WCS). If you want to run Weaviate yourself using Docker Compose or Kubernetes, follow the [installation steps in Weaviate's documentation](https://weaviate.io/developers/weaviate/current/getting-started/installation.html) to get a `docker-compose.yml` file and how to start it up. In this tutorial, we are using the WCS to start a Weaviate instance and interact with it using the console.\n",
    "\n",
    "1. Create a WCS account on https://console.semi.technology/.\n",
    "\n",
    "There are two options of how you can create a cluster once you have an account. You can either create one directly in the Console, or you can use the Weaviate Python Client to create a cluster from your code. We are going for the latter option here. We need to install the Weaviate Python Client in the environment first, and then we can use the WCS method to log in. "
   ]
  },
  {
   "cell_type": "code",
   "execution_count": 3,
   "metadata": {},
   "outputs": [
    {
     "name": "stdout",
     "output_type": "stream",
     "text": [
      "Requirement already satisfied: weaviate-client==3.4.2 in /Users/laura/.pyenv/versions/3.8.5/lib/python3.8/site-packages (3.4.2)\n",
      "Requirement already satisfied: requests<2.28.0,>=2.23.0 in /Users/laura/.pyenv/versions/3.8.5/lib/python3.8/site-packages (from weaviate-client==3.4.2) (2.25.1)\n",
      "Requirement already satisfied: validators<0.19.0,>=0.18.2 in /Users/laura/.pyenv/versions/3.8.5/lib/python3.8/site-packages (from weaviate-client==3.4.2) (0.18.2)\n",
      "Requirement already satisfied: tqdm<5.0.0,>=4.59.0 in /Users/laura/.pyenv/versions/3.8.5/lib/python3.8/site-packages (from weaviate-client==3.4.2) (4.60.0)\n",
      "Requirement already satisfied: chardet<5,>=3.0.2 in /Users/laura/.pyenv/versions/3.8.5/lib/python3.8/site-packages (from requests<2.28.0,>=2.23.0->weaviate-client==3.4.2) (3.0.4)\n",
      "Requirement already satisfied: idna<3,>=2.5 in /Users/laura/.pyenv/versions/3.8.5/lib/python3.8/site-packages (from requests<2.28.0,>=2.23.0->weaviate-client==3.4.2) (2.8)\n",
      "Requirement already satisfied: certifi>=2017.4.17 in /Users/laura/.pyenv/versions/3.8.5/lib/python3.8/site-packages (from requests<2.28.0,>=2.23.0->weaviate-client==3.4.2) (2020.6.20)\n",
      "Requirement already satisfied: urllib3<1.27,>=1.21.1 in /Users/laura/.pyenv/versions/3.8.5/lib/python3.8/site-packages (from requests<2.28.0,>=2.23.0->weaviate-client==3.4.2) (1.26.9)\n",
      "Requirement already satisfied: six>=1.4.0 in /Users/laura/.pyenv/versions/3.8.5/lib/python3.8/site-packages (from validators<0.19.0,>=0.18.2->weaviate-client==3.4.2) (1.15.0)\n",
      "Requirement already satisfied: decorator>=3.4.0 in /Users/laura/.pyenv/versions/3.8.5/lib/python3.8/site-packages (from validators<0.19.0,>=0.18.2->weaviate-client==3.4.2) (4.4.2)\n"
     ]
    }
   ],
   "source": [
    "import sys\n",
    "!{sys.executable} -m pip install weaviate-client==3.4.2"
   ]
  },
  {
   "cell_type": "markdown",
   "metadata": {},
   "source": [
    "Now let's import the package and log in with your WCS account."
   ]
  },
  {
   "cell_type": "code",
   "execution_count": 4,
   "metadata": {},
   "outputs": [],
   "source": [
    "from getpass import getpass # hide password\n",
    "import weaviate # to communicate to the Weaviate instance\n",
    "from weaviate.wcs import WCS"
   ]
  },
  {
   "cell_type": "markdown",
   "metadata": {},
   "source": [
    "In order to authenticate to WCS or Weaviate instance (if Weaviate instance has Authentication enable) we need to create an Authentication object. At the moment it supports two types of authentication credentials: \n",
    "* Password credentials: `weaviate.auth.AuthClientPassword(username='WCS_ACCOUNT_EMAIL', password='WCS_ACCOUNT_PASSWORD')`\n",
    "* Token credentials `weaviate.auth.AuthClientCredentials(client_secret=YOUR_SECRET_TOKEN)`\n",
    "\n",
    "For WCS we will use the Password credentials.  "
   ]
  },
  {
   "cell_type": "code",
   "execution_count": 11,
   "metadata": {},
   "outputs": [],
   "source": [
    "my_credentials = weaviate.auth.AuthClientPassword(username=input(\"User name: \"), password=getpass('Password: '))\n"
   ]
  },
  {
   "cell_type": "markdown",
   "metadata": {},
   "source": [
    "The my_credentials object contains your credentials so be careful not make it public."
   ]
  },
  {
   "cell_type": "code",
   "execution_count": 12,
   "metadata": {},
   "outputs": [],
   "source": [
    "my_wcs = WCS(my_credentials)"
   ]
  },
  {
   "cell_type": "markdown",
   "metadata": {},
   "source": [
    "Now that we connected to WCS, we can `create`, `delete_cluster`, `get_clusters`, `get_cluster_config` and check the status of a cluster with `is_ready` method. You can check additional documentation [here](https://weaviate-python-client.readthedocs.io/en/latest/weaviate.wcs.html).\n",
    "\n",
    "*If you want to check the prototype and docstring of any methods in a notebook, run this command: `object.method?`. You can also use the `help()` function.*<br>\n",
    "Ex: `WCS.is_ready?` or `my_wcs.is_ready?` or `help(WCS.is_ready)`."
   ]
  },
  {
   "cell_type": "markdown",
   "metadata": {},
   "source": [
    "When creating a Weaviate cluster, we also need to define which *vectorizer* (retriever) module we will use. A list of available modules can be found [here](https://weaviate.io/developers/weaviate/current/modules/index.html). For this tutorial we use the [`text2vec-contextionary` module](https://weaviate.io/developers/weaviate/current/retriever-vectorizer-modules/text2vec-contextionary.html) to vectorize data and queries. This module is CPU optimized and thus convenient to use in this lightweight notebook and the free WCS cluster. The Contextionary is Weaviate's own language vectorizer. It gives context to the language used in your dataset. The most recent `text2vec-contextionary` is trained using [fastText](https://fasttext.cc/) on Wiki and CommonCrawl data.\n",
    "\n",
    "Alternatively, you can choose to use one of the `text2vec-transformers` modules to vectorize text. Keep in mind that the free 'sandbox' Weaviate cluster that you get from WCS runs on CPU only, so Transformer models can be slower to import/vectorize data. If you want to experiment with a `text2vec-transformers` module, you are advised to run a Weaviate locally or on your cloud and enable GPU. You can change the `module` config parameter to for example (available models can be found [here](https://weaviate.io/developers/weaviate/current/retriever-vectorizer-modules/text2vec-transformers.html)):\n",
    "\n",
    "```python\n",
    "modules = {\n",
    "    \"name\": \"text2vec-transformers\", \n",
    "    \"tag\": \"sentence-transformers-paraphrase-MiniLM-L6-v2\"\n",
    "    } \n",
    "```"
   ]
  },
  {
   "cell_type": "code",
   "execution_count": 19,
   "metadata": {},
   "outputs": [
    {
     "name": "stderr",
     "output_type": "stream",
     "text": [
      "All resources of the cluster are ready.:                                   \n",
      "100% |██████████|[01:02<00:00,  1.60%/s]\n"
     ]
    },
    {
     "data": {
      "text/plain": [
       "'https://ukeiveyqbfistrpw.semi.network'"
      ]
     },
     "execution_count": 19,
     "metadata": {},
     "output_type": "execute_result"
    }
   ],
   "source": [
    "with_auth = False # set to true if you don't want your instance to be publically available\n",
    "cluster_name = None # you can change this to some name you like, if kept to None a random name will be generated\n",
    "modules = {\n",
    "    \"name\": \"text2vec-contextionary\", # for this tutorial we use the text2vec-contextionary module to vectorize data and queries. This module is CPU optimized and thus convenient to use in this lightweight notebook and the free WCS cluster\n",
    "    \"tag\": \"en0.16.0-v1.0.0\"\n",
    "    } \n",
    "\n",
    "weaviate_url = my_wcs.create(cluster_name, with_auth=with_auth, modules=modules, wait_for_completion=True) \n",
    "\n",
    "weaviate_url"
   ]
  },
  {
   "cell_type": "markdown",
   "metadata": {},
   "source": [
    "**Congratulations! You have your first Weaviate cluster running!**\n",
    "\n",
    "You can check the cluster at the given URL. You can check the meta information at `<weaviate_url>/v1/meta`, it's data schema at `<weaviate_url>/v1/schema` and the data objects at `<weaviate_url>/v1/objects`. "
   ]
  },
  {
   "cell_type": "markdown",
   "metadata": {},
   "source": [
    "We need to connect to the cluster with the Python client in order to create a data schema, import data and query data:"
   ]
  },
  {
   "cell_type": "code",
   "execution_count": 5,
   "metadata": {},
   "outputs": [
    {
     "data": {
      "text/plain": [
       "True"
      ]
     },
     "execution_count": 5,
     "metadata": {},
     "output_type": "execute_result"
    }
   ],
   "source": [
    "weaviate_url = 'https://ukeiveyqbfistrpw.semi.network'\n",
    "client = weaviate.Client(weaviate_url)\n",
    "client.is_ready()"
   ]
  },
  {
   "cell_type": "markdown",
   "metadata": {},
   "source": [
    "### 2.2 Get data and analyze it\n",
    "\n",
    "We set up a Weaviate instance, connected to it and have it ready for requests. Now it is time to take a step back and get some data and analyze it. \n",
    "\n",
    "This step, as for all the machine learning models, is the most important one. Here we have to decide what is relevant, what is important and what data structures/types to use.\n",
    "\n",
    "In this example we are going to use news articles, which are pieces of unstructured textual data. For this we are going to need the `newspaper3k` package:"
   ]
  },
  {
   "cell_type": "code",
   "execution_count": 6,
   "metadata": {},
   "outputs": [
    {
     "name": "stdout",
     "output_type": "stream",
     "text": [
      "Requirement already satisfied: newspaper3k in /Users/laura/.pyenv/versions/3.8.5/lib/python3.8/site-packages (0.2.8)\n",
      "Requirement already satisfied: jieba3k>=0.35.1 in /Users/laura/.pyenv/versions/3.8.5/lib/python3.8/site-packages (from newspaper3k) (0.35.1)\n",
      "Requirement already satisfied: beautifulsoup4>=4.4.1 in /Users/laura/.pyenv/versions/3.8.5/lib/python3.8/site-packages (from newspaper3k) (4.8.0)\n",
      "Requirement already satisfied: python-dateutil>=2.5.3 in /Users/laura/.pyenv/versions/3.8.5/lib/python3.8/site-packages (from newspaper3k) (2.8.1)\n",
      "Requirement already satisfied: cssselect>=0.9.2 in /Users/laura/.pyenv/versions/3.8.5/lib/python3.8/site-packages (from newspaper3k) (1.1.0)\n",
      "Requirement already satisfied: nltk>=3.2.1 in /Users/laura/.pyenv/versions/3.8.5/lib/python3.8/site-packages (from newspaper3k) (3.4.5)\n",
      "Requirement already satisfied: feedparser>=5.2.1 in /Users/laura/.pyenv/versions/3.8.5/lib/python3.8/site-packages (from newspaper3k) (6.0.2)\n",
      "Requirement already satisfied: Pillow>=3.3.0 in /Users/laura/.pyenv/versions/3.8.5/lib/python3.8/site-packages (from newspaper3k) (7.2.0)\n",
      "Requirement already satisfied: lxml>=3.6.0 in /Users/laura/.pyenv/versions/3.8.5/lib/python3.8/site-packages (from newspaper3k) (4.5.2)\n",
      "Requirement already satisfied: tinysegmenter==0.3 in /Users/laura/.pyenv/versions/3.8.5/lib/python3.8/site-packages (from newspaper3k) (0.3)\n",
      "Requirement already satisfied: tldextract>=2.0.1 in /Users/laura/.pyenv/versions/3.8.5/lib/python3.8/site-packages (from newspaper3k) (3.0.2)\n",
      "Requirement already satisfied: PyYAML>=3.11 in /Users/laura/.pyenv/versions/3.8.5/lib/python3.8/site-packages (from newspaper3k) (5.4.1)\n",
      "Requirement already satisfied: requests>=2.10.0 in /Users/laura/.pyenv/versions/3.8.5/lib/python3.8/site-packages (from newspaper3k) (2.25.1)\n",
      "Requirement already satisfied: feedfinder2>=0.0.4 in /Users/laura/.pyenv/versions/3.8.5/lib/python3.8/site-packages (from newspaper3k) (0.0.4)\n",
      "Requirement already satisfied: soupsieve>=1.2 in /Users/laura/.pyenv/versions/3.8.5/lib/python3.8/site-packages (from beautifulsoup4>=4.4.1->newspaper3k) (2.0.1)\n",
      "Requirement already satisfied: six in /Users/laura/.pyenv/versions/3.8.5/lib/python3.8/site-packages (from feedfinder2>=0.0.4->newspaper3k) (1.15.0)\n",
      "Requirement already satisfied: sgmllib3k in /Users/laura/.pyenv/versions/3.8.5/lib/python3.8/site-packages (from feedparser>=5.2.1->newspaper3k) (1.0.0)\n",
      "Requirement already satisfied: certifi>=2017.4.17 in /Users/laura/.pyenv/versions/3.8.5/lib/python3.8/site-packages (from requests>=2.10.0->newspaper3k) (2020.6.20)\n",
      "Requirement already satisfied: idna<3,>=2.5 in /Users/laura/.pyenv/versions/3.8.5/lib/python3.8/site-packages (from requests>=2.10.0->newspaper3k) (2.8)\n",
      "Requirement already satisfied: chardet<5,>=3.0.2 in /Users/laura/.pyenv/versions/3.8.5/lib/python3.8/site-packages (from requests>=2.10.0->newspaper3k) (3.0.4)\n",
      "Requirement already satisfied: urllib3<1.27,>=1.21.1 in /Users/laura/.pyenv/versions/3.8.5/lib/python3.8/site-packages (from requests>=2.10.0->newspaper3k) (1.26.9)\n",
      "Requirement already satisfied: filelock>=3.0.8 in /Users/laura/.pyenv/versions/3.8.5/lib/python3.8/site-packages (from tldextract>=2.0.1->newspaper3k) (3.0.12)\n",
      "Requirement already satisfied: requests-file>=1.4 in /Users/laura/.pyenv/versions/3.8.5/lib/python3.8/site-packages (from tldextract>=2.0.1->newspaper3k) (1.5.1)\n"
     ]
    }
   ],
   "source": [
    "!{sys.executable} -m pip install newspaper3k"
   ]
  },
  {
   "cell_type": "markdown",
   "metadata": {},
   "source": [
    "In the next code block we defined a function that retrieves articles from a newspaper. It saves the articles in `objects`, which consists of the article's `title`, `authors`, `title`, `word_count` and a UUID3 `id` generated from the article's URL."
   ]
  },
  {
   "cell_type": "code",
   "execution_count": 7,
   "metadata": {},
   "outputs": [
    {
     "name": "stderr",
     "output_type": "stream",
     "text": [
      "[nltk_data] Downloading package punkt to /Users/laura/nltk_data...\n",
      "[nltk_data]   Package punkt is already up-to-date!\n"
     ]
    },
    {
     "data": {
      "text/plain": [
       "True"
      ]
     },
     "execution_count": 7,
     "metadata": {},
     "output_type": "execute_result"
    }
   ],
   "source": [
    "import nltk # it is a dependency of newspaper3k\n",
    "nltk.download('punkt')"
   ]
  },
  {
   "cell_type": "code",
   "execution_count": 31,
   "metadata": {},
   "outputs": [],
   "source": [
    "import newspaper\n",
    "import uuid\n",
    "import json\n",
    "from tqdm import tqdm\n",
    "\n",
    "def get_articles_from_newspaper(\n",
    "        news_url: str, \n",
    "        max_articles: int=100\n",
    "    ) -> None:\n",
    "    \"\"\"\n",
    "    Download and save newspaper articles as weaviate schemas.\n",
    "    Parameters\n",
    "    ----------\n",
    "    newspaper_url : str\n",
    "        Newspaper title.\n",
    "    \"\"\"\n",
    "    \n",
    "    objects = []\n",
    "    \n",
    "    # Build the actual newspaper    \n",
    "    news_builder = newspaper.build(news_url, memoize_articles=False)\n",
    "    \n",
    "    if max_articles > news_builder.size():\n",
    "        max_articles = news_builder.size()\n",
    "    pbar = tqdm(total=max_articles)\n",
    "    pbar.set_description(f\"{news_url}\")\n",
    "    i = 0\n",
    "    while len(objects) < max_articles and i < news_builder.size():\n",
    "        article = news_builder.articles[i]\n",
    "        try:\n",
    "            article.download()\n",
    "            article.parse()\n",
    "            article.nlp()\n",
    "\n",
    "            if (article.title != '' and \\\n",
    "                article.title is not None and \\\n",
    "                article.summary != '' and \\\n",
    "                article.summary is not None and\\\n",
    "                article.authors):\n",
    "\n",
    "                # create an UUID for the article using its URL\n",
    "                article_id = uuid.uuid3(uuid.NAMESPACE_DNS, article.url)\n",
    "\n",
    "                # create the object\n",
    "                objects.append({\n",
    "                    'id': str(article_id),\n",
    "                    'title': article.title,\n",
    "                    'summary': article.summary,\n",
    "                    'authors': article.authors,\n",
    "                    'word_count': len(article.summary.split())\n",
    "                })\n",
    "                \n",
    "                pbar.update(1)\n",
    "\n",
    "        except:\n",
    "            # something went wrong with getting the article, ignore it\n",
    "            pass\n",
    "        i += 1\n",
    "    pbar.close()\n",
    "    return objects"
   ]
  },
  {
   "cell_type": "markdown",
   "metadata": {},
   "source": [
    "Let's download articles from some newspapers. Feel free to add more newspapers! "
   ]
  },
  {
   "cell_type": "code",
   "execution_count": 32,
   "metadata": {},
   "outputs": [
    {
     "name": "stderr",
     "output_type": "stream",
     "text": [
      "https://www.theguardian.com/international: 100%|██████████| 100/100 [00:32<00:00,  3.04it/s]\n",
      "http://cnn.com: 100%|██████████| 100/100 [02:11<00:00,  1.32s/it]\n"
     ]
    }
   ],
   "source": [
    "data = []\n",
    "data += get_articles_from_newspaper('https://www.theguardian.com/international')\n",
    "data += get_articles_from_newspaper('http://cnn.com')"
   ]
  },
  {
   "cell_type": "markdown",
   "metadata": {},
   "source": [
    "### 2.3 Make a Weaviate data schema\n",
    "\n",
    "We have some data downloaded. Before we can upload it to Weaviate, we need to create a [data schema](https://weaviate.io/developers/weaviate/current/data-schema/index.html). Adding a Weaviate data schema is not a requirement; if you don’t add a data schema, an automatic schema will be generated from the data that you import. But [defining a data schema yourself](https://weaviate.io/developers/weaviate/current/data-schema/schema-configuration.html) allows you to name classes, properties and relations between data entities yourself, so you have full control over the naming and structure, and also about configuration of modules and data vectorizers. \n",
    "\n",
    "A data schema consist of `classes`. Each `class` has a name and has `properties`. A `property` defines a data value that you can add to a `class`. \n",
    "\n",
    "Let's define a minimal schema for our Newspapers example:"
   ]
  },
  {
   "cell_type": "code",
   "execution_count": 22,
   "metadata": {},
   "outputs": [],
   "source": [
    "schema = {\n",
    "    \"classes\": [\n",
    "        {\n",
    "            \"class\": \"Article\", # name of the class\n",
    "            \"description\": \"An Article class to store the article summary and its authors\", # a description of what this class represents\n",
    "            \"properties\": [ # class properties\n",
    "                {\n",
    "                    \"name\": \"title\",\n",
    "                    \"dataType\": [\"string\"],\n",
    "                    \"description\": \"The title of the article\", \n",
    "                },\n",
    "                {\n",
    "                    \"name\": \"summary\",\n",
    "                    \"dataType\": [\"text\"],\n",
    "                    \"description\": \"The summary of the article\",\n",
    "                },\n",
    "                {\n",
    "                    \"name\": \"wordCount\",\n",
    "                    \"dataType\": [\"int\"],\n",
    "                    \"description\": \"The number of words in the article's summary\",\n",
    "                },\n",
    "                {\n",
    "                    \"name\": \"hasAuthors\",\n",
    "                    \"dataType\": [\"Author\"],\n",
    "                    \"description\": \"The authors this article has\",\n",
    "                }\n",
    "        \n",
    "            ]\n",
    "        }, {\n",
    "            \"class\": \"Author\",\n",
    "            \"description\": \"An Author class to store the author information\",\n",
    "            \"properties\": [\n",
    "                {\n",
    "                    \"name\": \"name\",\n",
    "                    \"dataType\": [\"string\"],\n",
    "                    \"description\": \"The name of the author\", \n",
    "                },\n",
    "                {\n",
    "                    \"name\": \"wroteArticles\",\n",
    "                    \"dataType\": [\"Article\"],\n",
    "                    \"description\": \"The articles of the author\", \n",
    "                }\n",
    "            ]\n",
    "        }\n",
    "\n",
    " ]\n",
    "}"
   ]
  },
  {
   "cell_type": "markdown",
   "metadata": {},
   "source": [
    "In the class schema above we create a class named `Article` with the description `An Article class to store the article summary and its authors`. The description is there to explain the user what this class is about.\n",
    "\n",
    "Also we define 4 properties: \n",
    "* `title` - The title of the article, of type `string` (case sensitive),\n",
    "* `summary` - The summary of the article, of data type `text` (case insensitive), \n",
    "* `wordCount` - The amount of words in the summary of the article, of data type `int`, \n",
    "* `hasAuthor` - The authors of the article, of data type `Author`. The `Author` is NOT a primitive data type; this is how we make cross-references between data items. This way you can link your data objects in-between them and create a relation graph. In this case, we need to define the class `Author` as well. The list of primitive data types can be found [here](https://www.semi.technology/developers/weaviate/current/data-schema/datatypes.html).\n",
    "\n",
    "**NOTE 1:** The properties should always be in cameCase format and starts with a lowercased word.<br>\n",
    "**NOTE 2:** The property data type is always a list because it can accept more than one data type. "
   ]
  },
  {
   "cell_type": "markdown",
   "metadata": {},
   "source": [
    "Now that we decided on the data structure, we can tell Weaviate this schema. This can be done by accessing the `schema` attribute of the client. \n",
    "\n",
    "The schema can be created by using the [`.create()` method](https://weaviate-python-client.readthedocs.io/en/latest/weaviate.schema.html#weaviate.schema.Schema.create), this option creates multiple classes at once (useful if you have the whole schema). Alternatively you can use the [`.create_class()` method](https://weaviate-python-client.readthedocs.io/en/latest/weaviate.schema.html#weaviate.schema.Schema.create_class), this option creates only one class per call.\n",
    "\n",
    "Also we can check if a schema is present or if a particular class schema is present with the `.contains()` method.\n",
    "\n",
    "More about schema methods, click [here](https://weaviate-python-client.readthedocs.io/en/latest/weaviate.schema.html#module-weaviate.schema) for the Python docs or [here](https://weaviate.io/developers/weaviate/current/restful-api-references/schema.html) for the general schema docs of Weaviate."
   ]
  },
  {
   "cell_type": "markdown",
   "metadata": {},
   "source": [
    "Because we defined each class separately we should use the `.create_class()` method:"
   ]
  },
  {
   "cell_type": "code",
   "execution_count": 23,
   "metadata": {},
   "outputs": [],
   "source": [
    "client.schema.create(schema)"
   ]
  },
  {
   "cell_type": "markdown",
   "metadata": {},
   "source": [
    "Lets get the schema from weaviate and look what was created."
   ]
  },
  {
   "cell_type": "code",
   "execution_count": 24,
   "metadata": {},
   "outputs": [],
   "source": [
    "# helper function\n",
    "def prettify(json_dict): \n",
    "    print(json.dumps(json_dict, indent=2))"
   ]
  },
  {
   "cell_type": "code",
   "execution_count": 25,
   "metadata": {},
   "outputs": [
    {
     "name": "stdout",
     "output_type": "stream",
     "text": [
      "{\n",
      "  \"classes\": [\n",
      "    {\n",
      "      \"class\": \"Article\",\n",
      "      \"description\": \"An Article class to store the article summary and its authors\",\n",
      "      \"invertedIndexConfig\": {\n",
      "        \"bm25\": {\n",
      "          \"b\": 0.75,\n",
      "          \"k1\": 1.2\n",
      "        },\n",
      "        \"cleanupIntervalSeconds\": 60,\n",
      "        \"stopwords\": {\n",
      "          \"additions\": null,\n",
      "          \"preset\": \"en\",\n",
      "          \"removals\": null\n",
      "        }\n",
      "      },\n",
      "      \"moduleConfig\": {\n",
      "        \"text2vec-contextionary\": {\n",
      "          \"vectorizeClassName\": true\n",
      "        }\n",
      "      },\n",
      "      \"properties\": [\n",
      "        {\n",
      "          \"dataType\": [\n",
      "            \"string\"\n",
      "          ],\n",
      "          \"description\": \"The title of the article\",\n",
      "          \"moduleConfig\": {\n",
      "            \"text2vec-contextionary\": {\n",
      "              \"skip\": false,\n",
      "              \"vectorizePropertyName\": false\n",
      "            }\n",
      "          },\n",
      "          \"name\": \"title\",\n",
      "          \"tokenization\": \"word\"\n",
      "        },\n",
      "        {\n",
      "          \"dataType\": [\n",
      "            \"text\"\n",
      "          ],\n",
      "          \"description\": \"The summary of the article\",\n",
      "          \"moduleConfig\": {\n",
      "            \"text2vec-contextionary\": {\n",
      "              \"skip\": false,\n",
      "              \"vectorizePropertyName\": false\n",
      "            }\n",
      "          },\n",
      "          \"name\": \"summary\",\n",
      "          \"tokenization\": \"word\"\n",
      "        },\n",
      "        {\n",
      "          \"dataType\": [\n",
      "            \"int\"\n",
      "          ],\n",
      "          \"description\": \"The number of words in the article's summary\",\n",
      "          \"moduleConfig\": {\n",
      "            \"text2vec-contextionary\": {\n",
      "              \"skip\": false,\n",
      "              \"vectorizePropertyName\": false\n",
      "            }\n",
      "          },\n",
      "          \"name\": \"wordCount\"\n",
      "        },\n",
      "        {\n",
      "          \"dataType\": [\n",
      "            \"Author\"\n",
      "          ],\n",
      "          \"description\": \"The authors this article has\",\n",
      "          \"moduleConfig\": {\n",
      "            \"text2vec-contextionary\": {\n",
      "              \"skip\": false,\n",
      "              \"vectorizePropertyName\": false\n",
      "            }\n",
      "          },\n",
      "          \"name\": \"hasAuthors\"\n",
      "        }\n",
      "      ],\n",
      "      \"shardingConfig\": {\n",
      "        \"virtualPerPhysical\": 128,\n",
      "        \"desiredCount\": 1,\n",
      "        \"actualCount\": 1,\n",
      "        \"desiredVirtualCount\": 128,\n",
      "        \"actualVirtualCount\": 128,\n",
      "        \"key\": \"_id\",\n",
      "        \"strategy\": \"hash\",\n",
      "        \"function\": \"murmur3\"\n",
      "      },\n",
      "      \"vectorIndexConfig\": {\n",
      "        \"skip\": false,\n",
      "        \"cleanupIntervalSeconds\": 300,\n",
      "        \"maxConnections\": 64,\n",
      "        \"efConstruction\": 128,\n",
      "        \"ef\": -1,\n",
      "        \"dynamicEfMin\": 100,\n",
      "        \"dynamicEfMax\": 500,\n",
      "        \"dynamicEfFactor\": 8,\n",
      "        \"vectorCacheMaxObjects\": 2000000,\n",
      "        \"flatSearchCutoff\": 40000\n",
      "      },\n",
      "      \"vectorIndexType\": \"hnsw\",\n",
      "      \"vectorizer\": \"text2vec-contextionary\"\n",
      "    },\n",
      "    {\n",
      "      \"class\": \"Author\",\n",
      "      \"description\": \"An Author class to store the author information\",\n",
      "      \"invertedIndexConfig\": {\n",
      "        \"bm25\": {\n",
      "          \"b\": 0.75,\n",
      "          \"k1\": 1.2\n",
      "        },\n",
      "        \"cleanupIntervalSeconds\": 60,\n",
      "        \"stopwords\": {\n",
      "          \"additions\": null,\n",
      "          \"preset\": \"en\",\n",
      "          \"removals\": null\n",
      "        }\n",
      "      },\n",
      "      \"moduleConfig\": {\n",
      "        \"text2vec-contextionary\": {\n",
      "          \"vectorizeClassName\": true\n",
      "        }\n",
      "      },\n",
      "      \"properties\": [\n",
      "        {\n",
      "          \"dataType\": [\n",
      "            \"string\"\n",
      "          ],\n",
      "          \"description\": \"The name of the author\",\n",
      "          \"moduleConfig\": {\n",
      "            \"text2vec-contextionary\": {\n",
      "              \"skip\": false,\n",
      "              \"vectorizePropertyName\": false\n",
      "            }\n",
      "          },\n",
      "          \"name\": \"name\",\n",
      "          \"tokenization\": \"word\"\n",
      "        },\n",
      "        {\n",
      "          \"dataType\": [\n",
      "            \"Article\"\n",
      "          ],\n",
      "          \"description\": \"The articles of the author\",\n",
      "          \"moduleConfig\": {\n",
      "            \"text2vec-contextionary\": {\n",
      "              \"skip\": false,\n",
      "              \"vectorizePropertyName\": false\n",
      "            }\n",
      "          },\n",
      "          \"name\": \"wroteArticles\"\n",
      "        }\n",
      "      ],\n",
      "      \"shardingConfig\": {\n",
      "        \"virtualPerPhysical\": 128,\n",
      "        \"desiredCount\": 1,\n",
      "        \"actualCount\": 1,\n",
      "        \"desiredVirtualCount\": 128,\n",
      "        \"actualVirtualCount\": 128,\n",
      "        \"key\": \"_id\",\n",
      "        \"strategy\": \"hash\",\n",
      "        \"function\": \"murmur3\"\n",
      "      },\n",
      "      \"vectorIndexConfig\": {\n",
      "        \"skip\": false,\n",
      "        \"cleanupIntervalSeconds\": 300,\n",
      "        \"maxConnections\": 64,\n",
      "        \"efConstruction\": 128,\n",
      "        \"ef\": -1,\n",
      "        \"dynamicEfMin\": 100,\n",
      "        \"dynamicEfMax\": 500,\n",
      "        \"dynamicEfFactor\": 8,\n",
      "        \"vectorCacheMaxObjects\": 2000000,\n",
      "        \"flatSearchCutoff\": 40000\n",
      "      },\n",
      "      \"vectorIndexType\": \"hnsw\",\n",
      "      \"vectorizer\": \"text2vec-contextionary\"\n",
      "    }\n",
      "  ]\n",
      "}\n"
     ]
    }
   ],
   "source": [
    "prettify(client.schema.get())"
   ]
  },
  {
   "cell_type": "markdown",
   "metadata": {},
   "source": [
    "You can always delete your entire schema with `client.schema.delete_all()`."
   ]
  },
  {
   "cell_type": "markdown",
   "metadata": {},
   "source": [
    "### 2.4 Vectorize & upload data\n",
    "\n",
    "In the previous steps we have preprocessed our data and have created a Weaviate data schema. Now we're ready to add `Articles` and `Authors`.\n",
    "\n",
    "Importing data to weaviate can be done in 2 different ways.\n",
    "\n",
    "1. Adding object by object iteratively. This ca be done using the `data_object` object attribute of the client. This option requires one REST request per object, thus is slower than importing data in batches.\n",
    "2. Adding objects in batches, with the  `Batch` class. This is efficient if you have large amounts of data to upload. The new class also supports 3 different cases of loading data in batches: a) Manually - the user has the absolute control when and how to add and create batches; b) Auto-create batches when full; c) Auto-create batches using dynamic batching, i.e. the batch size is adjusted every time it is created to avoid any Timeout errors.\n",
    "\n",
    "We will use the second method to upload our data. "
   ]
  },
  {
   "cell_type": "markdown",
   "metadata": {},
   "source": [
    "First, we define functions `add_article()`, `add_author()` and `add_references()`. In this function we make clear how the data that we have saved in our `data` list will be stored in Weaviate, using the schema we defined in the previous step. "
   ]
  },
  {
   "cell_type": "code",
   "execution_count": 27,
   "metadata": {},
   "outputs": [],
   "source": [
    "from weaviate.batch import Batch # for the typing purposes\n",
    "from weaviate.util import generate_uuid5\n",
    "\n",
    "\n",
    "def add_article(batch: Batch, article_data: dict) -> str:\n",
    "    \n",
    "    article_object = {\n",
    "        'title': article_data['title'],\n",
    "        'wordCount': article_data['word_count'],\n",
    "        'summary': article_data['summary'].replace('\\n', '') # remove newline character\n",
    "    }\n",
    "    article_id = article_data['id']\n",
    "    \n",
    "    # add article to the batch\n",
    "    batch.add_data_object( \n",
    "        data_object=article_object,\n",
    "        class_name='Article',\n",
    "        uuid=article_id\n",
    "    )\n",
    "    \n",
    "    return article_id\n",
    "\n",
    "def add_author(batch: Batch, author_name: str) -> str:\n",
    "    \n",
    "    # generate an UUID for the Author\n",
    "    author_id = generate_uuid5(author_name)\n",
    "    \n",
    "    # add author to the batch\n",
    "    batch.add_data_object(\n",
    "        data_object={'name': author_name},\n",
    "        class_name='Author',\n",
    "        uuid=author_id\n",
    "    )\n",
    "    \n",
    "    return author_id\n",
    "\n",
    "def add_references(batch: Batch, article_id: str, author_id: str)-> None:\n",
    "    # add references to the batch\n",
    "    ## Author -> Article\n",
    "    batch.add_reference(\n",
    "        from_object_uuid=author_id,\n",
    "        from_object_class_name='Author',\n",
    "        from_property_name='wroteArticles',\n",
    "        to_object_uuid=article_id\n",
    "    )\n",
    "    \n",
    "    ## Article -> Author \n",
    "    batch.add_reference(\n",
    "        from_object_uuid=article_id,\n",
    "        from_object_class_name='Article',\n",
    "        from_property_name='hasAuthors',\n",
    "        to_object_uuid=author_id\n",
    "    )"
   ]
  },
  {
   "cell_type": "markdown",
   "metadata": {},
   "source": [
    "Next, we use the `batch()` method to upload the data to Weaviate. We are using a dynamic auto-create batch method. The batch method automatically creates objects and references when a batch is full, which is determined dynamically (depending on the object's size). "
   ]
  },
  {
   "cell_type": "code",
   "execution_count": 33,
   "metadata": {},
   "outputs": [],
   "source": [
    "client.batch.configure(batch_size=50, dynamic=True, callback=None)\n",
    "\n",
    "with client.batch as batch:\n",
    "\n",
    "    for i in data:\n",
    "\n",
    "        # add article to the batch\n",
    "        article_id = add_article(batch, i)\n",
    "\n",
    "        for author in i['authors']:\n",
    "\n",
    "            # add author to the batch\n",
    "            author_id = add_author(batch, author)\n",
    "\n",
    "            # add cross references to the batch\n",
    "            add_references(batch, article_id=article_id, author_id=author_id)"
   ]
  },
  {
   "cell_type": "markdown",
   "metadata": {},
   "source": [
    "If the data upload is successful, you are now ready to query the data!"
   ]
  },
  {
   "cell_type": "markdown",
   "metadata": {},
   "source": [
    "### 2.5 Query data"
   ]
  },
  {
   "cell_type": "markdown",
   "metadata": {},
   "source": [
    "#### 2.5.1 Query data using the GUI"
   ]
  },
  {
   "cell_type": "markdown",
   "metadata": {},
   "source": [
    "#### 2.5.2 Query data using python"
   ]
  },
  {
   "cell_type": "markdown",
   "metadata": {},
   "source": []
  }
 ],
 "metadata": {
  "interpreter": {
   "hash": "3579617d9edeca879b1c2e9436d575a3656d7c05fdfb8572acef0a8c9e2fafea"
  },
  "kernelspec": {
   "display_name": "Python 3.8.5 64-bit ('3.8.5')",
   "language": "python",
   "name": "python3"
  },
  "language_info": {
   "codemirror_mode": {
    "name": "ipython",
    "version": 3
   },
   "file_extension": ".py",
   "mimetype": "text/x-python",
   "name": "python",
   "nbconvert_exporter": "python",
   "pygments_lexer": "ipython3",
   "version": "3.8.5"
  },
  "orig_nbformat": 4
 },
 "nbformat": 4,
 "nbformat_minor": 2
}
