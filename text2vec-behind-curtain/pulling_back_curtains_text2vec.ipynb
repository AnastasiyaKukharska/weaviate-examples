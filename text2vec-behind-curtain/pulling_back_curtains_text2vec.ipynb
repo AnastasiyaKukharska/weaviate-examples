{
 "cells": [
  {
   "cell_type": "markdown",
   "id": "fa76868f-5bd1-460b-b93f-4f424d5c7ca1",
   "metadata": {},
   "source": [
    "## Pulling back the curtains on `text2vec`"
   ]
  },
  {
   "cell_type": "markdown",
   "id": "413077f7-2735-45cf-8efd-52c41d0a62a3",
   "metadata": {},
   "source": [
    "How does Weaviate concatenate & vectorize data?\n",
    "(See the companion article on the [Weaviate blog](https://weaviate.io/blog.html))"
   ]
  },
  {
   "cell_type": "markdown",
   "id": "2b4777d4-1ae2-4fb2-b249-f4a3345cd298",
   "metadata": {},
   "source": [
    "### Set up Weaviate"
   ]
  },
  {
   "cell_type": "markdown",
   "id": "e51a120e-d4c8-4443-be27-57f26413bb06",
   "metadata": {},
   "source": [
    "We'll use the Cohere API here for embeddings. The `text2vec-cohere` module by default reads the API key from `COHERE_APIKEY` environment variable. It needs to be set prior to running `docker-compose up`, for example by running `export COHERE_APIKEY=my-key-here`. \n",
    "\n",
    "Here, we will read the key, and send it with every request as a header.\n",
    "\n",
    "Note: At the time of writing (December 2022), Cohere offers a trial API key which is free, but rate-limited at 100 calls per minute."
   ]
  },
  {
   "cell_type": "code",
   "execution_count": 1,
   "id": "f5a11fe0-a670-45aa-a4c6-ce46cdea3bd4",
   "metadata": {},
   "outputs": [],
   "source": [
    "with open(\"../../keys/cohere_trial_key.txt\", \"r\") as f:\n",
    "    cohere_key = f.read().strip()"
   ]
  },
  {
   "cell_type": "code",
   "execution_count": 2,
   "id": "c628e760-24f3-4a73-b2ea-664b67d23cb3",
   "metadata": {},
   "outputs": [],
   "source": [
    "import weaviate"
   ]
  },
  {
   "cell_type": "code",
   "execution_count": 3,
   "id": "5a8abf55-d19a-4cdf-bef3-de3133f18605",
   "metadata": {},
   "outputs": [
    {
     "data": {
      "text/plain": [
       "{'classes': []}"
      ]
     },
     "execution_count": 3,
     "metadata": {},
     "output_type": "execute_result"
    }
   ],
   "source": [
    "client = weaviate.Client(\n",
    "    # url=\"http://127.0.0.1:8080\",  # If using a Docker-based instance\n",
    "    url=\"https://YOUR_WCS_INSTANCE.semi.network\",  # If using a WCS instance\n",
    "    additional_headers={\n",
    "        'X-Cohere-Api-Key': cohere_key\n",
    "    }    \n",
    ")\n",
    "client.schema.delete_all()  # Delete data in case previous data exists\n",
    "client.schema.get()"
   ]
  },
  {
   "cell_type": "markdown",
   "id": "9fd870c5-f4c9-4354-953e-87bc14a6026c",
   "metadata": {},
   "source": [
    "### Load data"
   ]
  },
  {
   "cell_type": "markdown",
   "id": "db7ea754-aab1-44e7-b3b4-1e0027cf5297",
   "metadata": {},
   "source": [
    "Load our tiny dataset of questions from `Jeopardy!`. Original dataset from [Kaggle](https://www.kaggle.com/datasets/tunguz/200000-jeopardy-questions)."
   ]
  },
  {
   "cell_type": "code",
   "execution_count": 4,
   "id": "417e18fd-424c-4a18-8d13-5d244cb21d43",
   "metadata": {},
   "outputs": [
    {
     "data": {
      "text/html": [
       "<div>\n",
       "<style scoped>\n",
       "    .dataframe tbody tr th:only-of-type {\n",
       "        vertical-align: middle;\n",
       "    }\n",
       "\n",
       "    .dataframe tbody tr th {\n",
       "        vertical-align: top;\n",
       "    }\n",
       "\n",
       "    .dataframe thead th {\n",
       "        text-align: right;\n",
       "    }\n",
       "</style>\n",
       "<table border=\"1\" class=\"dataframe\">\n",
       "  <thead>\n",
       "    <tr style=\"text-align: right;\">\n",
       "      <th></th>\n",
       "      <th>Show Number</th>\n",
       "      <th>Air Date</th>\n",
       "      <th>Round</th>\n",
       "      <th>Category</th>\n",
       "      <th>Value</th>\n",
       "      <th>Question</th>\n",
       "      <th>Answer</th>\n",
       "    </tr>\n",
       "  </thead>\n",
       "  <tbody>\n",
       "    <tr>\n",
       "      <th>0</th>\n",
       "      <td>4680</td>\n",
       "      <td>2004-12-31</td>\n",
       "      <td>Jeopardy!</td>\n",
       "      <td>HISTORY</td>\n",
       "      <td>$200</td>\n",
       "      <td>For the last 8 years of his life, Galileo was ...</td>\n",
       "      <td>Copernicus</td>\n",
       "    </tr>\n",
       "    <tr>\n",
       "      <th>1</th>\n",
       "      <td>4680</td>\n",
       "      <td>2004-12-31</td>\n",
       "      <td>Jeopardy!</td>\n",
       "      <td>ESPN's TOP 10 ALL-TIME ATHLETES</td>\n",
       "      <td>$200</td>\n",
       "      <td>No. 2: 1912 Olympian; football star at Carlisl...</td>\n",
       "      <td>Jim Thorpe</td>\n",
       "    </tr>\n",
       "    <tr>\n",
       "      <th>2</th>\n",
       "      <td>4680</td>\n",
       "      <td>2004-12-31</td>\n",
       "      <td>Jeopardy!</td>\n",
       "      <td>EVERYBODY TALKS ABOUT IT...</td>\n",
       "      <td>$200</td>\n",
       "      <td>The city of Yuma in this state has a record av...</td>\n",
       "      <td>Arizona</td>\n",
       "    </tr>\n",
       "    <tr>\n",
       "      <th>3</th>\n",
       "      <td>4680</td>\n",
       "      <td>2004-12-31</td>\n",
       "      <td>Jeopardy!</td>\n",
       "      <td>THE COMPANY LINE</td>\n",
       "      <td>$200</td>\n",
       "      <td>In 1963, live on \"The Art Linkletter Show\", th...</td>\n",
       "      <td>McDonald's</td>\n",
       "    </tr>\n",
       "    <tr>\n",
       "      <th>4</th>\n",
       "      <td>4680</td>\n",
       "      <td>2004-12-31</td>\n",
       "      <td>Jeopardy!</td>\n",
       "      <td>EPITAPHS &amp; TRIBUTES</td>\n",
       "      <td>$200</td>\n",
       "      <td>Signer of the Dec. of Indep., framer of the Co...</td>\n",
       "      <td>John Adams</td>\n",
       "    </tr>\n",
       "    <tr>\n",
       "      <th>5</th>\n",
       "      <td>4680</td>\n",
       "      <td>2004-12-31</td>\n",
       "      <td>Jeopardy!</td>\n",
       "      <td>3-LETTER WORDS</td>\n",
       "      <td>$200</td>\n",
       "      <td>In the title of an Aesop fable, this insect sh...</td>\n",
       "      <td>the ant</td>\n",
       "    </tr>\n",
       "    <tr>\n",
       "      <th>6</th>\n",
       "      <td>4680</td>\n",
       "      <td>2004-12-31</td>\n",
       "      <td>Jeopardy!</td>\n",
       "      <td>HISTORY</td>\n",
       "      <td>$400</td>\n",
       "      <td>Built in 312 B.C. to link Rome &amp; the South of ...</td>\n",
       "      <td>the Appian Way</td>\n",
       "    </tr>\n",
       "    <tr>\n",
       "      <th>7</th>\n",
       "      <td>4680</td>\n",
       "      <td>2004-12-31</td>\n",
       "      <td>Jeopardy!</td>\n",
       "      <td>ESPN's TOP 10 ALL-TIME ATHLETES</td>\n",
       "      <td>$400</td>\n",
       "      <td>No. 8: 30 steals for the Birmingham Barons; 2,...</td>\n",
       "      <td>Michael Jordan</td>\n",
       "    </tr>\n",
       "    <tr>\n",
       "      <th>8</th>\n",
       "      <td>4680</td>\n",
       "      <td>2004-12-31</td>\n",
       "      <td>Jeopardy!</td>\n",
       "      <td>EVERYBODY TALKS ABOUT IT...</td>\n",
       "      <td>$400</td>\n",
       "      <td>In the winter of 1971-72, a record 1,122 inche...</td>\n",
       "      <td>Washington</td>\n",
       "    </tr>\n",
       "    <tr>\n",
       "      <th>9</th>\n",
       "      <td>4680</td>\n",
       "      <td>2004-12-31</td>\n",
       "      <td>Jeopardy!</td>\n",
       "      <td>THE COMPANY LINE</td>\n",
       "      <td>$400</td>\n",
       "      <td>This housewares store was named for the packag...</td>\n",
       "      <td>Crate &amp; Barrel</td>\n",
       "    </tr>\n",
       "    <tr>\n",
       "      <th>10</th>\n",
       "      <td>4680</td>\n",
       "      <td>2004-12-31</td>\n",
       "      <td>Jeopardy!</td>\n",
       "      <td>EPITAPHS &amp; TRIBUTES</td>\n",
       "      <td>$400</td>\n",
       "      <td>\"And away we go\"</td>\n",
       "      <td>Jackie Gleason</td>\n",
       "    </tr>\n",
       "    <tr>\n",
       "      <th>11</th>\n",
       "      <td>4680</td>\n",
       "      <td>2004-12-31</td>\n",
       "      <td>Jeopardy!</td>\n",
       "      <td>3-LETTER WORDS</td>\n",
       "      <td>$400</td>\n",
       "      <td>Cows regurgitate this from the first stomach t...</td>\n",
       "      <td>the cud</td>\n",
       "    </tr>\n",
       "    <tr>\n",
       "      <th>12</th>\n",
       "      <td>4680</td>\n",
       "      <td>2004-12-31</td>\n",
       "      <td>Jeopardy!</td>\n",
       "      <td>HISTORY</td>\n",
       "      <td>$600</td>\n",
       "      <td>In 1000 Rajaraja I of the Cholas battled to ta...</td>\n",
       "      <td>Ceylon (or Sri Lanka)</td>\n",
       "    </tr>\n",
       "    <tr>\n",
       "      <th>13</th>\n",
       "      <td>4680</td>\n",
       "      <td>2004-12-31</td>\n",
       "      <td>Jeopardy!</td>\n",
       "      <td>ESPN's TOP 10 ALL-TIME ATHLETES</td>\n",
       "      <td>$600</td>\n",
       "      <td>No. 1: Lettered in hoops, football &amp; lacrosse ...</td>\n",
       "      <td>Jim Brown</td>\n",
       "    </tr>\n",
       "    <tr>\n",
       "      <th>14</th>\n",
       "      <td>4680</td>\n",
       "      <td>2004-12-31</td>\n",
       "      <td>Jeopardy!</td>\n",
       "      <td>EVERYBODY TALKS ABOUT IT...</td>\n",
       "      <td>$600</td>\n",
       "      <td>On June 28, 1994 the nat'l weather service beg...</td>\n",
       "      <td>the UV index</td>\n",
       "    </tr>\n",
       "    <tr>\n",
       "      <th>15</th>\n",
       "      <td>4680</td>\n",
       "      <td>2004-12-31</td>\n",
       "      <td>Jeopardy!</td>\n",
       "      <td>THE COMPANY LINE</td>\n",
       "      <td>$600</td>\n",
       "      <td>This company's Accutron watch, introduced in 1...</td>\n",
       "      <td>Bulova</td>\n",
       "    </tr>\n",
       "    <tr>\n",
       "      <th>16</th>\n",
       "      <td>4680</td>\n",
       "      <td>2004-12-31</td>\n",
       "      <td>Jeopardy!</td>\n",
       "      <td>EPITAPHS &amp; TRIBUTES</td>\n",
       "      <td>$600</td>\n",
       "      <td>Outlaw: \"Murdered by a traitor and a coward wh...</td>\n",
       "      <td>Jesse James</td>\n",
       "    </tr>\n",
       "    <tr>\n",
       "      <th>17</th>\n",
       "      <td>4680</td>\n",
       "      <td>2004-12-31</td>\n",
       "      <td>Jeopardy!</td>\n",
       "      <td>3-LETTER WORDS</td>\n",
       "      <td>$600</td>\n",
       "      <td>A small demon, or a mischievous child (who mig...</td>\n",
       "      <td>imp</td>\n",
       "    </tr>\n",
       "    <tr>\n",
       "      <th>18</th>\n",
       "      <td>4680</td>\n",
       "      <td>2004-12-31</td>\n",
       "      <td>Jeopardy!</td>\n",
       "      <td>HISTORY</td>\n",
       "      <td>$800</td>\n",
       "      <td>Karl led the first of these Marxist organizati...</td>\n",
       "      <td>the International</td>\n",
       "    </tr>\n",
       "    <tr>\n",
       "      <th>19</th>\n",
       "      <td>4680</td>\n",
       "      <td>2004-12-31</td>\n",
       "      <td>Jeopardy!</td>\n",
       "      <td>ESPN's TOP 10 ALL-TIME ATHLETES</td>\n",
       "      <td>$800</td>\n",
       "      <td>No. 10: FB/LB for Columbia U. in the 1920s; MV...</td>\n",
       "      <td>(Lou) Gehrig</td>\n",
       "    </tr>\n",
       "  </tbody>\n",
       "</table>\n",
       "</div>"
      ],
      "text/plain": [
       "    Show Number    Air Date      Round                         Category Value  \\\n",
       "0          4680  2004-12-31  Jeopardy!                          HISTORY  $200   \n",
       "1          4680  2004-12-31  Jeopardy!  ESPN's TOP 10 ALL-TIME ATHLETES  $200   \n",
       "2          4680  2004-12-31  Jeopardy!      EVERYBODY TALKS ABOUT IT...  $200   \n",
       "3          4680  2004-12-31  Jeopardy!                 THE COMPANY LINE  $200   \n",
       "4          4680  2004-12-31  Jeopardy!              EPITAPHS & TRIBUTES  $200   \n",
       "5          4680  2004-12-31  Jeopardy!                   3-LETTER WORDS  $200   \n",
       "6          4680  2004-12-31  Jeopardy!                          HISTORY  $400   \n",
       "7          4680  2004-12-31  Jeopardy!  ESPN's TOP 10 ALL-TIME ATHLETES  $400   \n",
       "8          4680  2004-12-31  Jeopardy!      EVERYBODY TALKS ABOUT IT...  $400   \n",
       "9          4680  2004-12-31  Jeopardy!                 THE COMPANY LINE  $400   \n",
       "10         4680  2004-12-31  Jeopardy!              EPITAPHS & TRIBUTES  $400   \n",
       "11         4680  2004-12-31  Jeopardy!                   3-LETTER WORDS  $400   \n",
       "12         4680  2004-12-31  Jeopardy!                          HISTORY  $600   \n",
       "13         4680  2004-12-31  Jeopardy!  ESPN's TOP 10 ALL-TIME ATHLETES  $600   \n",
       "14         4680  2004-12-31  Jeopardy!      EVERYBODY TALKS ABOUT IT...  $600   \n",
       "15         4680  2004-12-31  Jeopardy!                 THE COMPANY LINE  $600   \n",
       "16         4680  2004-12-31  Jeopardy!              EPITAPHS & TRIBUTES  $600   \n",
       "17         4680  2004-12-31  Jeopardy!                   3-LETTER WORDS  $600   \n",
       "18         4680  2004-12-31  Jeopardy!                          HISTORY  $800   \n",
       "19         4680  2004-12-31  Jeopardy!  ESPN's TOP 10 ALL-TIME ATHLETES  $800   \n",
       "\n",
       "                                             Question                 Answer  \n",
       "0   For the last 8 years of his life, Galileo was ...             Copernicus  \n",
       "1   No. 2: 1912 Olympian; football star at Carlisl...             Jim Thorpe  \n",
       "2   The city of Yuma in this state has a record av...                Arizona  \n",
       "3   In 1963, live on \"The Art Linkletter Show\", th...             McDonald's  \n",
       "4   Signer of the Dec. of Indep., framer of the Co...             John Adams  \n",
       "5   In the title of an Aesop fable, this insect sh...                the ant  \n",
       "6   Built in 312 B.C. to link Rome & the South of ...         the Appian Way  \n",
       "7   No. 8: 30 steals for the Birmingham Barons; 2,...         Michael Jordan  \n",
       "8   In the winter of 1971-72, a record 1,122 inche...             Washington  \n",
       "9   This housewares store was named for the packag...         Crate & Barrel  \n",
       "10                                   \"And away we go\"         Jackie Gleason  \n",
       "11  Cows regurgitate this from the first stomach t...                the cud  \n",
       "12  In 1000 Rajaraja I of the Cholas battled to ta...  Ceylon (or Sri Lanka)  \n",
       "13  No. 1: Lettered in hoops, football & lacrosse ...              Jim Brown  \n",
       "14  On June 28, 1994 the nat'l weather service beg...           the UV index  \n",
       "15  This company's Accutron watch, introduced in 1...                 Bulova  \n",
       "16  Outlaw: \"Murdered by a traitor and a coward wh...            Jesse James  \n",
       "17  A small demon, or a mischievous child (who mig...                    imp  \n",
       "18  Karl led the first of these Marxist organizati...      the International  \n",
       "19  No. 10: FB/LB for Columbia U. in the 1920s; MV...           (Lou) Gehrig  "
      ]
     },
     "execution_count": 4,
     "metadata": {},
     "output_type": "execute_result"
    }
   ],
   "source": [
    "import pandas as pd\n",
    "df = pd.read_csv('tiny_jeopardy.csv')\n",
    "df"
   ]
  },
  {
   "cell_type": "markdown",
   "id": "3ddbd5a8-b461-4d3d-832e-fcb01cebde17",
   "metadata": {},
   "source": [
    "### Add data to Weaviate"
   ]
  },
  {
   "cell_type": "markdown",
   "id": "7afaa5cf-f4fc-40e9-a85e-f75084400f1b",
   "metadata": {},
   "source": [
    "#### Use batch import"
   ]
  },
  {
   "cell_type": "code",
   "execution_count": 5,
   "id": "d6757370-ec5f-41f1-92ca-a92327ba5e67",
   "metadata": {},
   "outputs": [
    {
     "data": {
      "text/plain": [
       "<weaviate.batch.crud_batch.Batch at 0x118866250>"
      ]
     },
     "execution_count": 5,
     "metadata": {},
     "output_type": "execute_result"
    }
   ],
   "source": [
    "client.batch.configure(\n",
    "    batch_size=100,\n",
    "    dynamic=True,\n",
    "    timeout_retries=3,\n",
    "    callback=None\n",
    ")"
   ]
  },
  {
   "cell_type": "markdown",
   "id": "2f91288f-3e47-43e2-bc37-b05689c81d78",
   "metadata": {},
   "source": [
    "Iterate through data and add to batch for vectorization"
   ]
  },
  {
   "cell_type": "code",
   "execution_count": 6,
   "id": "da305199-3de4-42b5-ac60-9e98003ba469",
   "metadata": {},
   "outputs": [],
   "source": [
    "for i, row in df.iterrows():\n",
    "    properties = {\n",
    "        \"question\": row.Question,\n",
    "        \"answer\": row.Answer\n",
    "    }\n",
    "    client.batch.add_data_object(properties, \"Question\")\n",
    "client.batch.flush()"
   ]
  },
  {
   "cell_type": "markdown",
   "id": "9245606f-0ac7-4dbe-bf16-eef5088ea703",
   "metadata": {},
   "source": [
    "### Basic queries\n",
    "\n",
    "Now that we have populated Weaviate, let's query it to make sure it works."
   ]
  },
  {
   "cell_type": "markdown",
   "id": "e445cc0f-70b0-474f-b0a7-34c61fc6b919",
   "metadata": {},
   "source": [
    "Let's grab any two objects."
   ]
  },
  {
   "cell_type": "code",
   "execution_count": 7,
   "id": "d54ee551-9d7e-4ddc-a5bb-d14c70bc0e34",
   "metadata": {},
   "outputs": [
    {
     "data": {
      "text/plain": [
       "{'data': {'Get': {'Question': [{'answer': 'Jim Thorpe',\n",
       "     'question': 'No. 2: 1912 Olympian; football star at Carlisle Indian School; 6 MLB seasons with the Reds, Giants & Braves'},\n",
       "    {'answer': 'Arizona',\n",
       "     'question': 'The city of Yuma in this state has a record average of 4,055 hours of sunshine each year'}]}}}"
      ]
     },
     "execution_count": 7,
     "metadata": {},
     "output_type": "execute_result"
    }
   ],
   "source": [
    "client.query.get(\"Question\", [\"question\", \"answer\"]).with_limit(2).do()"
   ]
  },
  {
   "cell_type": "markdown",
   "id": "f3965d3a-e8b8-466a-8989-df55ffc6b461",
   "metadata": {},
   "source": [
    "Let's get objects closest to \"fast food chains\". We can use the `nearText` query since we are using the `text2vec-cohere` module."
   ]
  },
  {
   "cell_type": "code",
   "execution_count": 8,
   "id": "885e29c8-4e8d-4b8c-b381-44318719d019",
   "metadata": {},
   "outputs": [
    {
     "data": {
      "text/plain": [
       "{'errors': [{'locations': [{'column': 24, 'line': 1}],\n",
       "   'message': 'Unknown argument \"nearText\" on field \"Question\" of type \"GetObjectsObj\". Did you mean \"nearVector\" or \"nearObject\"?',\n",
       "   'path': None}]}"
      ]
     },
     "execution_count": 8,
     "metadata": {},
     "output_type": "execute_result"
    }
   ],
   "source": [
    "near_text = {\n",
    "    \"concepts\": [\"fast food chains\"]\n",
    "}\n",
    "client.query.get(\n",
    "    \"Question\", \n",
    "    [\"question\", \"answer\"]\n",
    ").with_limit(2).with_near_text(\n",
    "    near_text\n",
    ").do()"
   ]
  },
  {
   "cell_type": "markdown",
   "id": "e0caa2d8-76d0-4325-81af-764280f72ddc",
   "metadata": {},
   "source": [
    "Let's also retrieve additional attributes of distance to query and the target vector."
   ]
  },
  {
   "cell_type": "code",
   "execution_count": 9,
   "id": "963a80cd-58d6-4c02-9080-bad04492c0ac",
   "metadata": {
    "tags": []
   },
   "outputs": [],
   "source": [
    "resp = client.query.get(\n",
    "    \"Question\", \n",
    "    [\"question\", \"answer\"]\n",
    ").with_limit(2).with_near_text(\n",
    "    near_text\n",
    ").with_additional(['distance', 'vector']).do()"
   ]
  },
  {
   "cell_type": "markdown",
   "id": "635332aa-1c98-4055-8045-2ab725fa32d8",
   "metadata": {},
   "source": [
    "Let's inspect the response further."
   ]
  },
  {
   "cell_type": "code",
   "execution_count": 10,
   "id": "c1cdf0a4-2293-41b7-bc19-225dbaafd4f0",
   "metadata": {},
   "outputs": [
    {
     "ename": "KeyError",
     "evalue": "'data'",
     "output_type": "error",
     "traceback": [
      "\u001b[0;31m---------------------------------------------------------------------------\u001b[0m",
      "\u001b[0;31mKeyError\u001b[0m                                  Traceback (most recent call last)",
      "Cell \u001b[0;32mIn [10], line 1\u001b[0m\n\u001b[0;32m----> 1\u001b[0m \u001b[38;5;28mprint\u001b[39m(\u001b[43mresp\u001b[49m\u001b[43m[\u001b[49m\u001b[38;5;124;43m'\u001b[39;49m\u001b[38;5;124;43mdata\u001b[39;49m\u001b[38;5;124;43m'\u001b[39;49m\u001b[43m]\u001b[49m[\u001b[38;5;124m'\u001b[39m\u001b[38;5;124mGet\u001b[39m\u001b[38;5;124m'\u001b[39m][\u001b[38;5;124m'\u001b[39m\u001b[38;5;124mQuestion\u001b[39m\u001b[38;5;124m'\u001b[39m][\u001b[38;5;241m0\u001b[39m][\u001b[38;5;124m'\u001b[39m\u001b[38;5;124m_additional\u001b[39m\u001b[38;5;124m'\u001b[39m][\u001b[38;5;124m'\u001b[39m\u001b[38;5;124mdistance\u001b[39m\u001b[38;5;124m'\u001b[39m])\n\u001b[1;32m      2\u001b[0m resp_vect \u001b[38;5;241m=\u001b[39m resp[\u001b[38;5;124m'\u001b[39m\u001b[38;5;124mdata\u001b[39m\u001b[38;5;124m'\u001b[39m][\u001b[38;5;124m'\u001b[39m\u001b[38;5;124mGet\u001b[39m\u001b[38;5;124m'\u001b[39m][\u001b[38;5;124m'\u001b[39m\u001b[38;5;124mQuestion\u001b[39m\u001b[38;5;124m'\u001b[39m][\u001b[38;5;241m0\u001b[39m][\u001b[38;5;124m'\u001b[39m\u001b[38;5;124m_additional\u001b[39m\u001b[38;5;124m'\u001b[39m][\u001b[38;5;124m'\u001b[39m\u001b[38;5;124mvector\u001b[39m\u001b[38;5;124m'\u001b[39m]\n\u001b[1;32m      3\u001b[0m \u001b[38;5;28mprint\u001b[39m(\u001b[38;5;28mlen\u001b[39m(resp_vect))\n",
      "\u001b[0;31mKeyError\u001b[0m: 'data'"
     ]
    }
   ],
   "source": [
    "print(resp['data']['Get']['Question'][0]['_additional']['distance'])\n",
    "resp_vect = resp['data']['Get']['Question'][0]['_additional']['vector']\n",
    "print(len(resp_vect))\n",
    "print(resp_vect[:2], \"...\", resp_vect[-2:])"
   ]
  },
  {
   "cell_type": "markdown",
   "id": "1b52e47e-ce8a-4c05-9b8c-1714b40b8286",
   "metadata": {},
   "source": [
    "We can confirm that the distance is reasonably small, and that a 768-dimensional vector is returned, with the shown dimensions."
   ]
  },
  {
   "cell_type": "markdown",
   "id": "f96c7d91-ffa7-42ce-becb-3cefdda776fa",
   "metadata": {},
   "source": [
    "### Vectorization\n",
    "\n",
    "But - what is the exact text that is being vectorized?\n",
    "\n",
    "Let's try to reproduce the same vector using the Cohere API only.\n",
    "\n",
    "We can instantiate the Cohere module like so:"
   ]
  },
  {
   "cell_type": "code",
   "execution_count": null,
   "id": "7ebe73b4-25a8-432a-a06d-feceffadd54f",
   "metadata": {},
   "outputs": [],
   "source": [
    "import cohere\n",
    "co = cohere.Client(cohere_key)"
   ]
  },
  {
   "cell_type": "markdown",
   "id": "205b8bb9-f274-4d8b-93c6-5ebb032a5274",
   "metadata": {},
   "source": [
    "Let's try to re-build the vector for the question about McDonald's."
   ]
  },
  {
   "cell_type": "code",
   "execution_count": null,
   "id": "39bc32d6-ca37-427f-ba10-6ba6c6d54995",
   "metadata": {},
   "outputs": [],
   "source": [
    "input_props = resp['data']['Get']['Question']\n",
    "input_props = {k:input_props[0][k] for k in ['question', 'answer']}\n",
    "input_props"
   ]
  },
  {
   "cell_type": "markdown",
   "id": "f6c237da-5fbe-4491-9089-ef3bb822c8fa",
   "metadata": {},
   "source": [
    "Let's try with one where we join the values of the dictionary:"
   ]
  },
  {
   "cell_type": "code",
   "execution_count": null,
   "id": "c16d2de8-cca7-4bf4-8982-8ca9b0d10454",
   "metadata": {},
   "outputs": [],
   "source": [
    "str_in = ' '.join([i for i in input_props.values()])\n",
    "str_in"
   ]
  },
  {
   "cell_type": "markdown",
   "id": "20cae3b9-e307-4708-a3ec-349da2bd81fa",
   "metadata": {},
   "source": [
    "And convert the string to a vector. Note that `multilingual-22-12` is the default model. "
   ]
  },
  {
   "cell_type": "code",
   "execution_count": null,
   "id": "db25a588-45ab-4723-9b91-dd47b221b9fa",
   "metadata": {},
   "outputs": [],
   "source": [
    "co_response = co.embed([str_in], model=\"multilingual-22-12\")"
   ]
  },
  {
   "cell_type": "markdown",
   "id": "0362a197-6f56-4cb5-93ca-5977bab295cf",
   "metadata": {},
   "source": [
    "The response looks like this:"
   ]
  },
  {
   "cell_type": "code",
   "execution_count": null,
   "id": "41bd2baa-e8cf-4f68-b319-a8f7d88716d5",
   "metadata": {
    "tags": []
   },
   "outputs": [],
   "source": [
    "co_response"
   ]
  },
  {
   "cell_type": "markdown",
   "id": "24f25f28-77b4-4245-988e-1a2ccd21f571",
   "metadata": {},
   "source": [
    "We can see that the response includes one embedding"
   ]
  },
  {
   "cell_type": "code",
   "execution_count": null,
   "id": "7731efa8-ad7d-4787-81af-89cc5bf18592",
   "metadata": {},
   "outputs": [],
   "source": [
    "len(co_response.embeddings)"
   ]
  },
  {
   "cell_type": "markdown",
   "id": "2df222ec-33ad-4caa-8e96-08c8723c94f1",
   "metadata": {},
   "source": [
    "And it is 768-dimensions long"
   ]
  },
  {
   "cell_type": "code",
   "execution_count": null,
   "id": "6783f412-42d7-4f61-b782-a4cda3d68217",
   "metadata": {},
   "outputs": [],
   "source": [
    "len(co_response.embeddings[0])"
   ]
  },
  {
   "cell_type": "markdown",
   "id": "e087b154-7373-41fa-9a12-cb1057302d19",
   "metadata": {},
   "source": [
    "Let's see how close this embedding is to the Weaviate embedding:"
   ]
  },
  {
   "cell_type": "code",
   "execution_count": null,
   "id": "51aa2c7b-d47b-4886-9ded-74a073e1c5fd",
   "metadata": {},
   "outputs": [],
   "source": [
    "client.query.get(\n",
    "    \"Question\", \n",
    "    [\"question\", \"answer\"]\n",
    ").with_limit(2).with_near_vector(\n",
    "    {'vector': co_response.embeddings[0]}\n",
    ").with_additional(['distance']).do()"
   ]
  },
  {
   "cell_type": "markdown",
   "id": "e86f24df-b350-4bbd-bc64-2f00ec85d271",
   "metadata": {},
   "source": [
    "Not bad! But they're not identical - why is that? Actually, Weaviate sorts the text to be concatenated by the property title. "
   ]
  },
  {
   "cell_type": "code",
   "execution_count": null,
   "id": "6410b238-b4b0-4f45-aaca-89ab5d995fed",
   "metadata": {},
   "outputs": [],
   "source": [
    "str_in = ''\n",
    "for k in sorted(input_props.keys()):\n",
    "    v = input_props[k]\n",
    "    if type(v) == str:\n",
    "        str_in += v + ' '\n",
    "str_in = str_in.strip()  # remove trailing whitespace\n",
    "str_in"
   ]
  },
  {
   "cell_type": "code",
   "execution_count": null,
   "id": "187a1324-635a-4f79-ab96-bbd7c3b93346",
   "metadata": {},
   "outputs": [],
   "source": [
    "co_response = co.embed([str_in], model=\"multilingual-22-12\")\n",
    "wv_response = client.query.get(\n",
    "    \"Question\", \n",
    "    [\"question\", \"answer\"]\n",
    ").with_limit(2).with_near_vector(\n",
    "    {'vector': co_response.embeddings[0]}\n",
    ").with_additional(['distance']).do()\n",
    "wv_response"
   ]
  },
  {
   "cell_type": "markdown",
   "id": "db0a511f-e06f-4db6-8584-b3bc1d2ad63b",
   "metadata": {},
   "source": [
    "We are **so very close** - But the input vector is still not identical to the Weaviate-generated one! Why is that?"
   ]
  },
  {
   "cell_type": "markdown",
   "id": "cb50a126-ea3c-4f06-b738-44f16edab49c",
   "metadata": {},
   "source": [
    "That's because the default behaviour also includes the class name. Let's add the class name."
   ]
  },
  {
   "cell_type": "code",
   "execution_count": null,
   "id": "7ceb876e-54fa-4871-8f11-bf03849538a7",
   "metadata": {},
   "outputs": [],
   "source": [
    "str_in = ''\n",
    "for k in sorted(input_props.keys()):\n",
    "    v = input_props[k]\n",
    "    if type(v) == str:\n",
    "        str_in += v + ' '\n",
    "str_in = 'question ' + str_in.strip()  # remove trailing whitespace"
   ]
  },
  {
   "cell_type": "code",
   "execution_count": null,
   "id": "7b1dda65-dfad-4476-a256-1348a7d0deb4",
   "metadata": {},
   "outputs": [],
   "source": [
    "str_in"
   ]
  },
  {
   "cell_type": "code",
   "execution_count": null,
   "id": "714321c5-88e3-4b45-9954-b0d713884845",
   "metadata": {},
   "outputs": [],
   "source": [
    "co_response = co.embed([str_in], model=\"multilingual-22-12\")\n",
    "client.query.get(\n",
    "    \"Question\", \n",
    "    [\"question\", \"answer\"]\n",
    ").with_limit(2).with_near_vector(\n",
    "    {'vector': co_response.embeddings[0]}\n",
    ").with_additional(['distance']).do()"
   ]
  },
  {
   "cell_type": "markdown",
   "id": "9a5abe05-c0b9-433c-97f8-f2b598c607f4",
   "metadata": {},
   "source": [
    "It's very close, but not quite zero yet."
   ]
  },
  {
   "cell_type": "markdown",
   "id": "42016cdf-4e13-49bb-8526-0e75853f97f6",
   "metadata": {},
   "source": [
    "Weaviate also changes the text to lowercase, so let's incorporate that also."
   ]
  },
  {
   "cell_type": "code",
   "execution_count": null,
   "id": "33c6cc25-2df8-4b28-a452-dd57821c4080",
   "metadata": {},
   "outputs": [],
   "source": [
    "str_in = ''\n",
    "for k in sorted(input_props.keys()):\n",
    "    v = input_props[k]\n",
    "    if type(v) == str:\n",
    "        str_in += v + ' '\n",
    "str_in = 'question ' + str_in.lower().strip()  # remove trailing whitespace"
   ]
  },
  {
   "cell_type": "code",
   "execution_count": null,
   "id": "724c48c2-8f89-4faf-8c2c-d7349306c893",
   "metadata": {},
   "outputs": [],
   "source": [
    "str_in"
   ]
  },
  {
   "cell_type": "code",
   "execution_count": null,
   "id": "86b236fa-1a6a-4a6a-95d2-3b8878bfa956",
   "metadata": {},
   "outputs": [],
   "source": [
    "co_response = co.embed([str_in], model=\"multilingual-22-12\")\n",
    "client.query.get(\n",
    "    \"Question\", \n",
    "    [\"question\", \"answer\"]\n",
    ").with_limit(2).with_near_vector(\n",
    "    {'vector': co_response.embeddings[0]}\n",
    ").with_additional(['distance']).do()"
   ]
  },
  {
   "cell_type": "markdown",
   "id": "30dce8a8-b628-4c99-8c7b-a557e6454106",
   "metadata": {},
   "source": [
    "Look! We have an identical vector."
   ]
  },
  {
   "cell_type": "markdown",
   "id": "f24ccdb0-a2bd-42ee-94b5-7bc1e5b33a14",
   "metadata": {},
   "source": [
    "### Tweaking of vectorization"
   ]
  },
  {
   "cell_type": "markdown",
   "id": "853b2473-8999-4040-b199-36d8c88805f0",
   "metadata": {},
   "source": [
    "Now that we know the default behaviour, let's try tweaking it to do something different. "
   ]
  },
  {
   "cell_type": "markdown",
   "id": "e5e52805-52f9-4a0b-ad18-4e2e3d626deb",
   "metadata": {},
   "source": [
    "Did you notice that in the exercise above, we *hadn't* set a schema before importing the data? What happened was that Weaviate created a schema with the auto-import feature."
   ]
  },
  {
   "cell_type": "markdown",
   "id": "63a7d65b-d9fe-4fc0-8a19-bd23b6f1a04b",
   "metadata": {},
   "source": [
    "Let's define a schema. Incidentally, this is where we define what properties are to be vectorized (or not)."
   ]
  },
  {
   "cell_type": "code",
   "execution_count": null,
   "id": "6a730665-374d-47ba-aa0b-24484a2c3977",
   "metadata": {},
   "outputs": [],
   "source": [
    "client.schema.delete_all()\n",
    "client.schema.get()"
   ]
  },
  {
   "cell_type": "code",
   "execution_count": null,
   "id": "1fa332ad-05c6-4401-82f0-b227906f3f13",
   "metadata": {},
   "outputs": [],
   "source": [
    "question_class = {\n",
    "    \"class\": \"Question\",\n",
    "    \"description\": \"Details of a Jeopardy! question\",    \n",
    "    \"moduleConfig\": {\n",
    "        \"text2vec-cohere\": {  # The vectorizer name - must match the vectorizer used\n",
    "            \"vectorizeClassName\": False,  # Ignore class name\n",
    "        },\n",
    "    },\n",
    "    \"properties\": [\n",
    "        {\n",
    "            \"name\": \"answer\",    \n",
    "            \"description\": \"What the host prompts the contestants with.\",            \n",
    "            \"dataType\": [\"string\"],\n",
    "            \"moduleConfig\": {\n",
    "                \"text2vec-cohere\": {\n",
    "                    \"skip\": False,  # Do not skip class\n",
    "                    \"vectorizePropertyName\": False  # Ignore property name\n",
    "                }\n",
    "            }\n",
    "        },\n",
    "        {\n",
    "            \"name\": \"question\",\n",
    "            \"description\": \"What the contestant is to provide.\",\n",
    "            \"dataType\": [\"string\"],\n",
    "            \"moduleConfig\": {\n",
    "                \"text2vec-cohere\": {\n",
    "                    \"skip\": False,  # Do not skip class\n",
    "                    \"vectorizePropertyName\": True  # Do not ignore property name\n",
    "                }\n",
    "            }\n",
    "        },        \n",
    "    ]\n",
    "}\n",
    "\n",
    "client.schema.create_class(question_class)\n",
    "client.schema.get()"
   ]
  },
  {
   "cell_type": "markdown",
   "id": "d15bf5e6-8cea-4988-aaf3-541a375bd061",
   "metadata": {},
   "source": [
    "Populate Weaviate again with the new schema"
   ]
  },
  {
   "cell_type": "code",
   "execution_count": null,
   "id": "f17c02b9-1eb8-4a27-9a4a-bdda448f19fb",
   "metadata": {},
   "outputs": [],
   "source": [
    "for i, row in df.iterrows():\n",
    "    properties = {\n",
    "        \"question\": row.Question,\n",
    "        \"answer\": row.Answer\n",
    "    }\n",
    "    client.batch.add_data_object(properties, \"Question\")\n",
    "client.batch.flush()\n",
    "client.data_object.get()"
   ]
  },
  {
   "cell_type": "markdown",
   "id": "c3e441cb-d89f-4b94-b191-ad3cb93647cd",
   "metadata": {},
   "source": [
    "Now let's take another look at the vector, comparing the distance to the nearest hit:"
   ]
  },
  {
   "cell_type": "code",
   "execution_count": null,
   "id": "84b180db-54d3-4cff-9101-8b94b6b3dc02",
   "metadata": {},
   "outputs": [],
   "source": [
    "str_in = ''\n",
    "for k in sorted(input_props.keys()):\n",
    "    v = input_props[k]\n",
    "    if type(v) == str:\n",
    "        str_in += v + ' '\n",
    "str_in = str_in.lower().strip()  # remove trailing whitespace\n",
    "str_in = 'question ' + str_in"
   ]
  },
  {
   "cell_type": "code",
   "execution_count": null,
   "id": "0079d210-a58d-4ef5-a78e-86381fbed4dd",
   "metadata": {},
   "outputs": [],
   "source": [
    "co_response = co.embed([str_in], model=\"multilingual-22-12\")\n",
    "client.query.get(\n",
    "    \"Question\", \n",
    "    [\"question\", \"answer\"]\n",
    ").with_limit(2).with_near_vector(\n",
    "    {'vector': co_response.embeddings[0]}\n",
    ").with_additional(['distance']).do()"
   ]
  },
  {
   "cell_type": "markdown",
   "id": "47ea1149-927d-4d76-8df0-f128488a72da",
   "metadata": {},
   "source": [
    "The distance is no longer zero!"
   ]
  },
  {
   "cell_type": "markdown",
   "id": "540ec8de-2900-4dc7-b9b6-023841fc38ea",
   "metadata": {},
   "source": [
    "That's because we have changed the schema."
   ]
  },
  {
   "cell_type": "code",
   "execution_count": null,
   "id": "44247a3e-82f3-4a72-88f0-2ebf62efb7d5",
   "metadata": {},
   "outputs": [],
   "source": [
    "str_in = ''\n",
    "for k in sorted(input_props.keys()):\n",
    "    v = input_props[k]\n",
    "    if type(v) == str:\n",
    "        if k == 'question':\n",
    "            str_in += k + ' '\n",
    "        str_in += v + ' '\n",
    "str_in = str_in.lower().strip()\n",
    "str_in = str_in"
   ]
  },
  {
   "cell_type": "code",
   "execution_count": null,
   "id": "0c331be1-454f-4dea-9ca3-7fb9f99c15ab",
   "metadata": {},
   "outputs": [],
   "source": [
    "str_in"
   ]
  },
  {
   "cell_type": "code",
   "execution_count": null,
   "id": "c54186b5-4656-4bc1-8e61-135062d7a041",
   "metadata": {},
   "outputs": [],
   "source": [
    "co_response = co.embed([str_in], model=\"multilingual-22-12\")\n",
    "client.query.get(\n",
    "    \"Question\", \n",
    "    [\"question\", \"answer\"]\n",
    ").with_limit(2).with_near_vector(\n",
    "    {'vector': co_response.embeddings[0]}\n",
    ").with_additional(['distance']).do()"
   ]
  },
  {
   "cell_type": "markdown",
   "id": "03859b8d-0608-41a5-92f2-b64966617b7e",
   "metadata": {},
   "source": [
    "Adding the property title now returns our `distance` back to zero."
   ]
  },
  {
   "cell_type": "code",
   "execution_count": null,
   "id": "e04dac31-2790-4e01-b85a-abdac24e3f26",
   "metadata": {},
   "outputs": [],
   "source": []
  }
 ],
 "metadata": {
  "kernelspec": {
   "display_name": "Python 3 (ipykernel)",
   "language": "python",
   "name": "python3"
  },
  "language_info": {
   "codemirror_mode": {
    "name": "ipython",
    "version": 3
   },
   "file_extension": ".py",
   "mimetype": "text/x-python",
   "name": "python",
   "nbconvert_exporter": "python",
   "pygments_lexer": "ipython3",
   "version": "3.9.13"
  }
 },
 "nbformat": 4,
 "nbformat_minor": 5
}
