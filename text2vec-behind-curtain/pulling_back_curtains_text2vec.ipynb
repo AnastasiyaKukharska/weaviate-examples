{
 "cells": [
  {
   "cell_type": "markdown",
   "id": "fa76868f-5bd1-460b-b93f-4f424d5c7ca1",
   "metadata": {},
   "source": [
    "## Pulling back the curtains on `text2vec`"
   ]
  },
  {
   "cell_type": "markdown",
   "id": "413077f7-2735-45cf-8efd-52c41d0a62a3",
   "metadata": {},
   "source": [
    "How does Weaviate concatenate & vectorize data?\n",
    "(See the companion article on the [Weaviate blog](https://weaviate.io/blog.html))"
   ]
  },
  {
   "cell_type": "markdown",
   "id": "2b4777d4-1ae2-4fb2-b249-f4a3345cd298",
   "metadata": {},
   "source": [
    "### Set up Weaviate"
   ]
  },
  {
   "cell_type": "markdown",
   "id": "e51a120e-d4c8-4443-be27-57f26413bb06",
   "metadata": {},
   "source": [
    "We'll use the Cohere API here for embeddings. The `text2vec-cohere` module by default reads the API key from `COHERE_APIKEY` environment variable. It needs to be set prior to running `docker-compose up`, for example by running `export COHERE_APIKEY=my-key-here`. \n",
    "\n",
    "Here, we will read the key, and send it with every request as a header.\n",
    "\n",
    "Note: At the time of writing (December 2022), Cohere offers a trial API key which is free, but rate-limited at 100 calls per minute."
   ]
  },
  {
   "cell_type": "code",
   "execution_count": 1,
   "id": "f5a11fe0-a670-45aa-a4c6-ce46cdea3bd4",
   "metadata": {},
   "outputs": [],
   "source": [
    "# Read/set your Cohere API key here\n",
    "with open(\"../../keys/cohere_trial_key.txt\", \"r\") as f:  \n",
    "    cohere_key = f.read().strip()"
   ]
  },
  {
   "cell_type": "code",
   "execution_count": 2,
   "id": "c628e760-24f3-4a73-b2ea-664b67d23cb3",
   "metadata": {},
   "outputs": [],
   "source": [
    "import weaviate"
   ]
  },
  {
   "cell_type": "code",
   "execution_count": 3,
   "id": "5a8abf55-d19a-4cdf-bef3-de3133f18605",
   "metadata": {},
   "outputs": [
    {
     "data": {
      "text/plain": [
       "{'classes': []}"
      ]
     },
     "execution_count": 3,
     "metadata": {},
     "output_type": "execute_result"
    }
   ],
   "source": [
    "client = weaviate.Client(\n",
    "    url=\"http://127.0.0.1:8080\",  # If using a Docker-based instance\n",
    "    # url=\"https://YOUR_WCS_INSTANCE.semi.network\",  # If using a WCS instance\n",
    "    additional_headers={\n",
    "        'X-Cohere-Api-Key': cohere_key\n",
    "    }    \n",
    ")\n",
    "client.schema.delete_all()  # Delete data in case previous data exists\n",
    "client.schema.get()"
   ]
  },
  {
   "cell_type": "markdown",
   "id": "9fd870c5-f4c9-4354-953e-87bc14a6026c",
   "metadata": {},
   "source": [
    "### Load data"
   ]
  },
  {
   "cell_type": "markdown",
   "id": "db7ea754-aab1-44e7-b3b4-1e0027cf5297",
   "metadata": {},
   "source": [
    "Load our tiny dataset of questions from `Jeopardy!`. Original dataset from [Kaggle](https://www.kaggle.com/datasets/tunguz/200000-jeopardy-questions)."
   ]
  },
  {
   "cell_type": "code",
   "execution_count": 4,
   "id": "417e18fd-424c-4a18-8d13-5d244cb21d43",
   "metadata": {},
   "outputs": [
    {
     "data": {
      "text/html": [
       "<div>\n",
       "<style scoped>\n",
       "    .dataframe tbody tr th:only-of-type {\n",
       "        vertical-align: middle;\n",
       "    }\n",
       "\n",
       "    .dataframe tbody tr th {\n",
       "        vertical-align: top;\n",
       "    }\n",
       "\n",
       "    .dataframe thead th {\n",
       "        text-align: right;\n",
       "    }\n",
       "</style>\n",
       "<table border=\"1\" class=\"dataframe\">\n",
       "  <thead>\n",
       "    <tr style=\"text-align: right;\">\n",
       "      <th></th>\n",
       "      <th>Show Number</th>\n",
       "      <th>Air Date</th>\n",
       "      <th>Round</th>\n",
       "      <th>Category</th>\n",
       "      <th>Value</th>\n",
       "      <th>Question</th>\n",
       "      <th>Answer</th>\n",
       "    </tr>\n",
       "  </thead>\n",
       "  <tbody>\n",
       "    <tr>\n",
       "      <th>0</th>\n",
       "      <td>4680</td>\n",
       "      <td>2004-12-31</td>\n",
       "      <td>Jeopardy!</td>\n",
       "      <td>HISTORY</td>\n",
       "      <td>$200</td>\n",
       "      <td>For the last 8 years of his life, Galileo was ...</td>\n",
       "      <td>Copernicus</td>\n",
       "    </tr>\n",
       "    <tr>\n",
       "      <th>1</th>\n",
       "      <td>4680</td>\n",
       "      <td>2004-12-31</td>\n",
       "      <td>Jeopardy!</td>\n",
       "      <td>ESPN's TOP 10 ALL-TIME ATHLETES</td>\n",
       "      <td>$200</td>\n",
       "      <td>No. 2: 1912 Olympian; football star at Carlisl...</td>\n",
       "      <td>Jim Thorpe</td>\n",
       "    </tr>\n",
       "    <tr>\n",
       "      <th>2</th>\n",
       "      <td>4680</td>\n",
       "      <td>2004-12-31</td>\n",
       "      <td>Jeopardy!</td>\n",
       "      <td>EVERYBODY TALKS ABOUT IT...</td>\n",
       "      <td>$200</td>\n",
       "      <td>The city of Yuma in this state has a record av...</td>\n",
       "      <td>Arizona</td>\n",
       "    </tr>\n",
       "    <tr>\n",
       "      <th>3</th>\n",
       "      <td>4680</td>\n",
       "      <td>2004-12-31</td>\n",
       "      <td>Jeopardy!</td>\n",
       "      <td>THE COMPANY LINE</td>\n",
       "      <td>$200</td>\n",
       "      <td>In 1963, live on \"The Art Linkletter Show\", th...</td>\n",
       "      <td>McDonald's</td>\n",
       "    </tr>\n",
       "    <tr>\n",
       "      <th>4</th>\n",
       "      <td>4680</td>\n",
       "      <td>2004-12-31</td>\n",
       "      <td>Jeopardy!</td>\n",
       "      <td>EPITAPHS &amp; TRIBUTES</td>\n",
       "      <td>$200</td>\n",
       "      <td>Signer of the Dec. of Indep., framer of the Co...</td>\n",
       "      <td>John Adams</td>\n",
       "    </tr>\n",
       "    <tr>\n",
       "      <th>5</th>\n",
       "      <td>4680</td>\n",
       "      <td>2004-12-31</td>\n",
       "      <td>Jeopardy!</td>\n",
       "      <td>3-LETTER WORDS</td>\n",
       "      <td>$200</td>\n",
       "      <td>In the title of an Aesop fable, this insect sh...</td>\n",
       "      <td>the ant</td>\n",
       "    </tr>\n",
       "    <tr>\n",
       "      <th>6</th>\n",
       "      <td>4680</td>\n",
       "      <td>2004-12-31</td>\n",
       "      <td>Jeopardy!</td>\n",
       "      <td>HISTORY</td>\n",
       "      <td>$400</td>\n",
       "      <td>Built in 312 B.C. to link Rome &amp; the South of ...</td>\n",
       "      <td>the Appian Way</td>\n",
       "    </tr>\n",
       "    <tr>\n",
       "      <th>7</th>\n",
       "      <td>4680</td>\n",
       "      <td>2004-12-31</td>\n",
       "      <td>Jeopardy!</td>\n",
       "      <td>ESPN's TOP 10 ALL-TIME ATHLETES</td>\n",
       "      <td>$400</td>\n",
       "      <td>No. 8: 30 steals for the Birmingham Barons; 2,...</td>\n",
       "      <td>Michael Jordan</td>\n",
       "    </tr>\n",
       "    <tr>\n",
       "      <th>8</th>\n",
       "      <td>4680</td>\n",
       "      <td>2004-12-31</td>\n",
       "      <td>Jeopardy!</td>\n",
       "      <td>EVERYBODY TALKS ABOUT IT...</td>\n",
       "      <td>$400</td>\n",
       "      <td>In the winter of 1971-72, a record 1,122 inche...</td>\n",
       "      <td>Washington</td>\n",
       "    </tr>\n",
       "    <tr>\n",
       "      <th>9</th>\n",
       "      <td>4680</td>\n",
       "      <td>2004-12-31</td>\n",
       "      <td>Jeopardy!</td>\n",
       "      <td>THE COMPANY LINE</td>\n",
       "      <td>$400</td>\n",
       "      <td>This housewares store was named for the packag...</td>\n",
       "      <td>Crate &amp; Barrel</td>\n",
       "    </tr>\n",
       "    <tr>\n",
       "      <th>10</th>\n",
       "      <td>4680</td>\n",
       "      <td>2004-12-31</td>\n",
       "      <td>Jeopardy!</td>\n",
       "      <td>EPITAPHS &amp; TRIBUTES</td>\n",
       "      <td>$400</td>\n",
       "      <td>\"And away we go\"</td>\n",
       "      <td>Jackie Gleason</td>\n",
       "    </tr>\n",
       "    <tr>\n",
       "      <th>11</th>\n",
       "      <td>4680</td>\n",
       "      <td>2004-12-31</td>\n",
       "      <td>Jeopardy!</td>\n",
       "      <td>3-LETTER WORDS</td>\n",
       "      <td>$400</td>\n",
       "      <td>Cows regurgitate this from the first stomach t...</td>\n",
       "      <td>the cud</td>\n",
       "    </tr>\n",
       "    <tr>\n",
       "      <th>12</th>\n",
       "      <td>4680</td>\n",
       "      <td>2004-12-31</td>\n",
       "      <td>Jeopardy!</td>\n",
       "      <td>HISTORY</td>\n",
       "      <td>$600</td>\n",
       "      <td>In 1000 Rajaraja I of the Cholas battled to ta...</td>\n",
       "      <td>Ceylon (or Sri Lanka)</td>\n",
       "    </tr>\n",
       "    <tr>\n",
       "      <th>13</th>\n",
       "      <td>4680</td>\n",
       "      <td>2004-12-31</td>\n",
       "      <td>Jeopardy!</td>\n",
       "      <td>ESPN's TOP 10 ALL-TIME ATHLETES</td>\n",
       "      <td>$600</td>\n",
       "      <td>No. 1: Lettered in hoops, football &amp; lacrosse ...</td>\n",
       "      <td>Jim Brown</td>\n",
       "    </tr>\n",
       "    <tr>\n",
       "      <th>14</th>\n",
       "      <td>4680</td>\n",
       "      <td>2004-12-31</td>\n",
       "      <td>Jeopardy!</td>\n",
       "      <td>EVERYBODY TALKS ABOUT IT...</td>\n",
       "      <td>$600</td>\n",
       "      <td>On June 28, 1994 the nat'l weather service beg...</td>\n",
       "      <td>the UV index</td>\n",
       "    </tr>\n",
       "    <tr>\n",
       "      <th>15</th>\n",
       "      <td>4680</td>\n",
       "      <td>2004-12-31</td>\n",
       "      <td>Jeopardy!</td>\n",
       "      <td>THE COMPANY LINE</td>\n",
       "      <td>$600</td>\n",
       "      <td>This company's Accutron watch, introduced in 1...</td>\n",
       "      <td>Bulova</td>\n",
       "    </tr>\n",
       "    <tr>\n",
       "      <th>16</th>\n",
       "      <td>4680</td>\n",
       "      <td>2004-12-31</td>\n",
       "      <td>Jeopardy!</td>\n",
       "      <td>EPITAPHS &amp; TRIBUTES</td>\n",
       "      <td>$600</td>\n",
       "      <td>Outlaw: \"Murdered by a traitor and a coward wh...</td>\n",
       "      <td>Jesse James</td>\n",
       "    </tr>\n",
       "    <tr>\n",
       "      <th>17</th>\n",
       "      <td>4680</td>\n",
       "      <td>2004-12-31</td>\n",
       "      <td>Jeopardy!</td>\n",
       "      <td>3-LETTER WORDS</td>\n",
       "      <td>$600</td>\n",
       "      <td>A small demon, or a mischievous child (who mig...</td>\n",
       "      <td>imp</td>\n",
       "    </tr>\n",
       "    <tr>\n",
       "      <th>18</th>\n",
       "      <td>4680</td>\n",
       "      <td>2004-12-31</td>\n",
       "      <td>Jeopardy!</td>\n",
       "      <td>HISTORY</td>\n",
       "      <td>$800</td>\n",
       "      <td>Karl led the first of these Marxist organizati...</td>\n",
       "      <td>the International</td>\n",
       "    </tr>\n",
       "    <tr>\n",
       "      <th>19</th>\n",
       "      <td>4680</td>\n",
       "      <td>2004-12-31</td>\n",
       "      <td>Jeopardy!</td>\n",
       "      <td>ESPN's TOP 10 ALL-TIME ATHLETES</td>\n",
       "      <td>$800</td>\n",
       "      <td>No. 10: FB/LB for Columbia U. in the 1920s; MV...</td>\n",
       "      <td>(Lou) Gehrig</td>\n",
       "    </tr>\n",
       "  </tbody>\n",
       "</table>\n",
       "</div>"
      ],
      "text/plain": [
       "    Show Number    Air Date      Round                         Category Value  \\\n",
       "0          4680  2004-12-31  Jeopardy!                          HISTORY  $200   \n",
       "1          4680  2004-12-31  Jeopardy!  ESPN's TOP 10 ALL-TIME ATHLETES  $200   \n",
       "2          4680  2004-12-31  Jeopardy!      EVERYBODY TALKS ABOUT IT...  $200   \n",
       "3          4680  2004-12-31  Jeopardy!                 THE COMPANY LINE  $200   \n",
       "4          4680  2004-12-31  Jeopardy!              EPITAPHS & TRIBUTES  $200   \n",
       "5          4680  2004-12-31  Jeopardy!                   3-LETTER WORDS  $200   \n",
       "6          4680  2004-12-31  Jeopardy!                          HISTORY  $400   \n",
       "7          4680  2004-12-31  Jeopardy!  ESPN's TOP 10 ALL-TIME ATHLETES  $400   \n",
       "8          4680  2004-12-31  Jeopardy!      EVERYBODY TALKS ABOUT IT...  $400   \n",
       "9          4680  2004-12-31  Jeopardy!                 THE COMPANY LINE  $400   \n",
       "10         4680  2004-12-31  Jeopardy!              EPITAPHS & TRIBUTES  $400   \n",
       "11         4680  2004-12-31  Jeopardy!                   3-LETTER WORDS  $400   \n",
       "12         4680  2004-12-31  Jeopardy!                          HISTORY  $600   \n",
       "13         4680  2004-12-31  Jeopardy!  ESPN's TOP 10 ALL-TIME ATHLETES  $600   \n",
       "14         4680  2004-12-31  Jeopardy!      EVERYBODY TALKS ABOUT IT...  $600   \n",
       "15         4680  2004-12-31  Jeopardy!                 THE COMPANY LINE  $600   \n",
       "16         4680  2004-12-31  Jeopardy!              EPITAPHS & TRIBUTES  $600   \n",
       "17         4680  2004-12-31  Jeopardy!                   3-LETTER WORDS  $600   \n",
       "18         4680  2004-12-31  Jeopardy!                          HISTORY  $800   \n",
       "19         4680  2004-12-31  Jeopardy!  ESPN's TOP 10 ALL-TIME ATHLETES  $800   \n",
       "\n",
       "                                             Question                 Answer  \n",
       "0   For the last 8 years of his life, Galileo was ...             Copernicus  \n",
       "1   No. 2: 1912 Olympian; football star at Carlisl...             Jim Thorpe  \n",
       "2   The city of Yuma in this state has a record av...                Arizona  \n",
       "3   In 1963, live on \"The Art Linkletter Show\", th...             McDonald's  \n",
       "4   Signer of the Dec. of Indep., framer of the Co...             John Adams  \n",
       "5   In the title of an Aesop fable, this insect sh...                the ant  \n",
       "6   Built in 312 B.C. to link Rome & the South of ...         the Appian Way  \n",
       "7   No. 8: 30 steals for the Birmingham Barons; 2,...         Michael Jordan  \n",
       "8   In the winter of 1971-72, a record 1,122 inche...             Washington  \n",
       "9   This housewares store was named for the packag...         Crate & Barrel  \n",
       "10                                   \"And away we go\"         Jackie Gleason  \n",
       "11  Cows regurgitate this from the first stomach t...                the cud  \n",
       "12  In 1000 Rajaraja I of the Cholas battled to ta...  Ceylon (or Sri Lanka)  \n",
       "13  No. 1: Lettered in hoops, football & lacrosse ...              Jim Brown  \n",
       "14  On June 28, 1994 the nat'l weather service beg...           the UV index  \n",
       "15  This company's Accutron watch, introduced in 1...                 Bulova  \n",
       "16  Outlaw: \"Murdered by a traitor and a coward wh...            Jesse James  \n",
       "17  A small demon, or a mischievous child (who mig...                    imp  \n",
       "18  Karl led the first of these Marxist organizati...      the International  \n",
       "19  No. 10: FB/LB for Columbia U. in the 1920s; MV...           (Lou) Gehrig  "
      ]
     },
     "execution_count": 4,
     "metadata": {},
     "output_type": "execute_result"
    }
   ],
   "source": [
    "import pandas as pd\n",
    "df = pd.read_csv('tiny_jeopardy.csv')\n",
    "df"
   ]
  },
  {
   "cell_type": "markdown",
   "id": "3ddbd5a8-b461-4d3d-832e-fcb01cebde17",
   "metadata": {},
   "source": [
    "### Add data to Weaviate"
   ]
  },
  {
   "cell_type": "markdown",
   "id": "7afaa5cf-f4fc-40e9-a85e-f75084400f1b",
   "metadata": {},
   "source": [
    "#### Use batch import"
   ]
  },
  {
   "cell_type": "code",
   "execution_count": 5,
   "id": "d6757370-ec5f-41f1-92ca-a92327ba5e67",
   "metadata": {},
   "outputs": [
    {
     "data": {
      "text/plain": [
       "<weaviate.batch.crud_batch.Batch at 0x1139016d0>"
      ]
     },
     "execution_count": 5,
     "metadata": {},
     "output_type": "execute_result"
    }
   ],
   "source": [
    "client.batch.configure(\n",
    "    batch_size=100,\n",
    "    dynamic=True,\n",
    "    timeout_retries=3,\n",
    "    callback=None\n",
    ")"
   ]
  },
  {
   "cell_type": "markdown",
   "id": "2f91288f-3e47-43e2-bc37-b05689c81d78",
   "metadata": {},
   "source": [
    "Iterate through data and add to batch for vectorization"
   ]
  },
  {
   "cell_type": "code",
   "execution_count": 6,
   "id": "da305199-3de4-42b5-ac60-9e98003ba469",
   "metadata": {},
   "outputs": [],
   "source": [
    "for i, row in df.iterrows():\n",
    "    properties = {\n",
    "        \"question\": row.Question,\n",
    "        \"answer\": row.Answer\n",
    "    }\n",
    "    client.batch.add_data_object(properties, \"Question\")\n",
    "client.batch.flush()"
   ]
  },
  {
   "cell_type": "markdown",
   "id": "9245606f-0ac7-4dbe-bf16-eef5088ea703",
   "metadata": {},
   "source": [
    "### Basic queries\n",
    "\n",
    "Now that we have populated Weaviate, let's query it to make sure it works."
   ]
  },
  {
   "cell_type": "markdown",
   "id": "e445cc0f-70b0-474f-b0a7-34c61fc6b919",
   "metadata": {},
   "source": [
    "Let's grab any two objects."
   ]
  },
  {
   "cell_type": "code",
   "execution_count": 7,
   "id": "d54ee551-9d7e-4ddc-a5bb-d14c70bc0e34",
   "metadata": {},
   "outputs": [
    {
     "data": {
      "text/plain": [
       "{'data': {'Get': {'Question': [{'answer': 'the ant',\n",
       "     'question': 'In the title of an Aesop fable, this insect shared billing with a grasshopper'},\n",
       "    {'answer': 'Ceylon (or Sri Lanka)',\n",
       "     'question': 'In 1000 Rajaraja I of the Cholas battled to take this Indian Ocean island now known for its tea'}]}}}"
      ]
     },
     "execution_count": 7,
     "metadata": {},
     "output_type": "execute_result"
    }
   ],
   "source": [
    "client.query.get(\"Question\", [\"question\", \"answer\"]).with_limit(2).do()"
   ]
  },
  {
   "cell_type": "markdown",
   "id": "f3965d3a-e8b8-466a-8989-df55ffc6b461",
   "metadata": {},
   "source": [
    "Let's get objects closest to \"fast food chains\". We can use the `nearText` query since we are using the `text2vec-cohere` module."
   ]
  },
  {
   "cell_type": "code",
   "execution_count": 8,
   "id": "885e29c8-4e8d-4b8c-b381-44318719d019",
   "metadata": {},
   "outputs": [
    {
     "data": {
      "text/plain": [
       "{'data': {'Get': {'Question': [{'answer': \"McDonald's\",\n",
       "     'question': 'In 1963, live on \"The Art Linkletter Show\", this company served its billionth burger'},\n",
       "    {'answer': 'the cud',\n",
       "     'question': 'Cows regurgitate this from the first stomach to the mouth & chew it again'}]}}}"
      ]
     },
     "execution_count": 8,
     "metadata": {},
     "output_type": "execute_result"
    }
   ],
   "source": [
    "near_text = {\n",
    "    \"concepts\": [\"fast food chains\"]\n",
    "}\n",
    "client.query.get(\n",
    "    \"Question\", \n",
    "    [\"question\", \"answer\"]\n",
    ").with_limit(2).with_near_text(\n",
    "    near_text\n",
    ").do()"
   ]
  },
  {
   "cell_type": "markdown",
   "id": "e0caa2d8-76d0-4325-81af-764280f72ddc",
   "metadata": {},
   "source": [
    "Let's also retrieve additional attributes of distance to query and the target vector."
   ]
  },
  {
   "cell_type": "code",
   "execution_count": 9,
   "id": "963a80cd-58d6-4c02-9080-bad04492c0ac",
   "metadata": {
    "tags": []
   },
   "outputs": [],
   "source": [
    "wv_resp = client.query.get(\n",
    "    \"Question\", \n",
    "    [\"question\", \"answer\"]\n",
    ").with_limit(2).with_near_text(\n",
    "    near_text\n",
    ").with_additional(['distance', 'vector']).do()"
   ]
  },
  {
   "cell_type": "markdown",
   "id": "635332aa-1c98-4055-8045-2ab725fa32d8",
   "metadata": {},
   "source": [
    "Let's inspect the response further."
   ]
  },
  {
   "cell_type": "code",
   "execution_count": 10,
   "id": "c1cdf0a4-2293-41b7-bc19-225dbaafd4f0",
   "metadata": {},
   "outputs": [
    {
     "name": "stdout",
     "output_type": "stream",
     "text": [
      "0.11430907\n",
      "768\n",
      "[0.24600697, -0.23755248] ... [0.031165963, -0.21798912]\n"
     ]
    }
   ],
   "source": [
    "print(wv_resp['data']['Get']['Question'][0]['_additional']['distance'])\n",
    "wv_resp_vect = wv_resp['data']['Get']['Question'][0]['_additional']['vector']\n",
    "print(len(wv_resp_vect))\n",
    "print(wv_resp_vect[:2], \"...\", wv_resp_vect[-2:])"
   ]
  },
  {
   "cell_type": "markdown",
   "id": "1b52e47e-ce8a-4c05-9b8c-1714b40b8286",
   "metadata": {},
   "source": [
    "We can confirm that the distance is reasonably small, and that a 768-dimensional vector is returned, with the shown dimensions."
   ]
  },
  {
   "cell_type": "markdown",
   "id": "f96c7d91-ffa7-42ce-becb-3cefdda776fa",
   "metadata": {},
   "source": [
    "### Vectorization\n",
    "\n",
    "But - what is the exact text that is being vectorized?\n",
    "\n",
    "Let's try to reproduce the same vector using the Cohere API only.\n",
    "\n",
    "We can instantiate the Cohere module like so:"
   ]
  },
  {
   "cell_type": "code",
   "execution_count": 11,
   "id": "7ebe73b4-25a8-432a-a06d-feceffadd54f",
   "metadata": {},
   "outputs": [],
   "source": [
    "import cohere\n",
    "co = cohere.Client(cohere_key)"
   ]
  },
  {
   "cell_type": "markdown",
   "id": "205b8bb9-f274-4d8b-93c6-5ebb032a5274",
   "metadata": {},
   "source": [
    "Let's try to re-build the vector for the question about McDonald's."
   ]
  },
  {
   "cell_type": "code",
   "execution_count": 12,
   "id": "39bc32d6-ca37-427f-ba10-6ba6c6d54995",
   "metadata": {},
   "outputs": [
    {
     "data": {
      "text/plain": [
       "{'question': 'In 1963, live on \"The Art Linkletter Show\", this company served its billionth burger',\n",
       " 'answer': \"McDonald's\"}"
      ]
     },
     "execution_count": 12,
     "metadata": {},
     "output_type": "execute_result"
    }
   ],
   "source": [
    "input_props = wv_resp['data']['Get']['Question']\n",
    "input_props = {k:input_props[0][k] for k in ['question', 'answer']}\n",
    "input_props"
   ]
  },
  {
   "cell_type": "markdown",
   "id": "f6c237da-5fbe-4491-9089-ef3bb822c8fa",
   "metadata": {},
   "source": [
    "Let's try with one where we join the values of the dictionary:"
   ]
  },
  {
   "cell_type": "code",
   "execution_count": 13,
   "id": "c16d2de8-cca7-4bf4-8982-8ca9b0d10454",
   "metadata": {},
   "outputs": [
    {
     "data": {
      "text/plain": [
       "'In 1963, live on \"The Art Linkletter Show\", this company served its billionth burger McDonald\\'s'"
      ]
     },
     "execution_count": 13,
     "metadata": {},
     "output_type": "execute_result"
    }
   ],
   "source": [
    "str_in = ' '.join([i for i in input_props.values()])\n",
    "str_in"
   ]
  },
  {
   "cell_type": "markdown",
   "id": "20cae3b9-e307-4708-a3ec-349da2bd81fa",
   "metadata": {},
   "source": [
    "And convert the string to a vector. Note that `multilingual-22-12` is the default model. "
   ]
  },
  {
   "cell_type": "code",
   "execution_count": 14,
   "id": "db25a588-45ab-4723-9b91-dd47b221b9fa",
   "metadata": {},
   "outputs": [],
   "source": [
    "co_resp = co.embed([str_in], model=\"multilingual-22-12\")"
   ]
  },
  {
   "cell_type": "markdown",
   "id": "0362a197-6f56-4cb5-93ca-5977bab295cf",
   "metadata": {},
   "source": [
    "The response looks like this:"
   ]
  },
  {
   "cell_type": "code",
   "execution_count": 15,
   "id": "41bd2baa-e8cf-4f68-b319-a8f7d88716d5",
   "metadata": {
    "tags": []
   },
   "outputs": [
    {
     "data": {
      "text/plain": [
       "cohere.Embeddings {\n",
       "\tembeddings: [[0.22701332, -0.030964054, 0.050336353, 0.049897335, -0.021324128, -0.16091986, 0.39172348, -0.39684454, 0.35449043, 0.28700465, -0.33484453, -0.41574034, -0.1838335, -0.015157565, 0.1193762, 0.13803549, 0.50380415, 0.09734542, -0.29555884, -0.12724696, -0.18610202, 0.6819611, -0.22728056, 0.19520861, -0.09814354, 0.18940791, -0.14462556, 0.1805138, 0.2214307, 0.25091803, 0.39456654, -0.30383578, 0.003720728, 0.6776438, -0.76900494, 0.41417876, 0.09526737, 0.039816678, -0.22038119, 0.6234025, 0.38795778, 0.09976828, 0.21993224, -0.059398625, 0.474929, 0.08870231, 0.0043426524, -0.049599346, -0.4271566, 0.0724841, -0.5687472, -0.27303874, 0.07239083, 0.025778376, -0.6908721, 0.68424636, -0.51627827, 0.485158, -0.15707815, -0.08897833, 0.20728052, -0.30644438, -0.37722677, 0.073214866, 0.3218, 0.06431876, -0.066812545, 0.31766108, 0.30044928, 0.3147846, -0.07034772, 0.10764563, 0.43878776, -0.028267745, -0.1105182, -0.18371834, -0.060697634, 0.13589285, 0.1320054, -0.30774036, 0.49935186, -0.07586646, -0.08653984, 0.41005865, 0.1740011, 0.4262672, 0.12690577, 0.13131812, -0.041440457, 0.49743026, -0.30810297, 0.17654888, 0.28051075, 0.3664735, 0.12913485, -0.14737488, 0.19486709, 0.09529547, 0.27153394, -0.21170987, 0.04957351, -0.3118104, -0.27933586, 0.27510586, 0.32212287, -0.50008535, 0.13209794, 0.009426266, 0.6239887, 0.05279235, 0.75007415, -0.5679191, 0.022824751, -0.32579604, -0.05261178, 0.17418957, 0.26438263, -0.00854925, -0.14038418, -0.8535703, 0.29446572, 0.3817145, -0.23861697, -0.11411992, -0.19202134, -0.45816416, 0.6255905, -0.11906433, 0.65481716, 0.6529535, -0.02333361, 0.07414012, 0.17582378, 0.7252889, 0.19486646, -0.15055667, 0.23795478, -0.22131184, -0.008766358, -0.09500783, 0.024712395, -0.12048899, 0.15308276, 0.6612532, -0.22674982, 0.39218628, -0.15133376, 0.46060032, -0.19175683, -0.071055934, -0.14395054, 0.2608274, 0.05358284, 0.2744455, -0.11162258, 0.09527075, 0.15000172, 0.2312636, -0.0067881844, 0.1811737, 0.62187654, 0.31360218, 0.29137138, -0.23308904, 0.1402088, 0.20162934, -0.20519821, 0.17150865, 0.5274861, -0.2487433, -0.541316, 0.07844629, 0.45469424, -0.16327567, -0.031764854, 0.33348414, -0.33281946, 0.04245969, 0.42050445, -0.23319533, -0.09003428, 0.2578366, 0.31331974, 0.19678432, 0.4921517, 0.4003022, 0.14637585, -0.069114104, 0.016810214, 0.34466174, 0.57714325, 0.2648381, 0.7240558, -0.07615515, -0.22765224, 0.26213127, 0.08055584, 0.44220835, -0.30813265, 0.35721275, -0.16462341, -0.06727343, -0.31323773, 0.03276353, 0.2201968, -0.34503275, 0.04281765, 0.014458315, -0.12639616, 0.00023681879, 0.029092988, 0.12015227, 0.44931883, 0.11586326, -0.35894844, 0.17862567, 0.3562814, 0.17049171, 0.38378423, -0.054021325, -0.4480764, 0.582929, 0.15304486, 0.11804731, -0.05967798, -0.6393069, -0.25014693, -0.613069, 0.06913939, 0.38791746, 0.9037497, 0.3669218, 0.12114373, -0.15252571, 0.060005274, 0.011854493, 0.048017558, -0.20091969, -0.028095365, -0.26642436, 0.4117328, -0.059586138, -0.48836908, 0.14235649, 0.43679896, -0.27938116, -0.20785359, 0.2861541, -0.25032017, -0.3860496, 0.16743717, -0.25751474, 0.39548308, 0.3941351, -0.06565841, 0.27598372, 0.07760954, -0.0011256504, -0.12839964, -0.0066786846, -0.018349689, -0.19455032, 0.38385493, 0.49471197, -0.10616415, -0.10762819, 0.18169005, 0.5830912, 0.21180508, 0.70614177, 0.53892875, -0.29867133, -0.115453504, 0.32608268, -0.028862623, 0.04910671, -0.1092248, -0.044379372, -0.18126354, 0.4899272, 0.30773082, 0.03397612, -0.07587168, -0.15152554, 0.874884, 0.33889368, -0.3504711, -0.16695961, -0.23480286, -0.15067777, 0.21985252, 0.3741883, -0.100760445, -0.52110916, 0.3381462, 0.1031831, -0.3615613, 0.007360544, 0.14238662, 0.094740234, 0.53196144, -0.662067, 0.18808566, 0.18577331, -0.056248054, 0.09557827, -0.19796957, 0.8374913, -0.37690738, 0.28142914, 0.57385856, -0.53149575, -0.20043127, 0.1799179, 0.1659863, 0.30868778, -0.18482116, 0.27265677, 0.3183836, 0.48417944, -0.18536958, 0.05057827, -0.4387464, 0.14957367, 0.26907575, -0.39070097, 0.112822786, -0.17414346, 0.55566365, -0.24479492, 0.6421152, -0.088571124, 0.49933642, 0.11673597, -0.07947559, 0.24237408, 0.25946954, 0.5655509, 0.31505919, -0.252992, 0.15904966, 0.1563625, 0.24729504, 0.54164267, -0.12664887, 0.19673362, 0.1492381, -0.13821666, 0.39491016, 0.057878308, 0.16518486, 0.4380716, -0.095256515, -0.1144956, 0.32015085, 0.11624311, 0.097140804, 0.19048527, 0.17544807, -0.18442658, 0.07347854, 0.3131334, 0.32203475, -0.010422915, 0.23476605, 0.23246425, -0.22131282, 0.06606292, 0.6825418, -0.09197845, 0.19238977, 0.10994355, -0.104339235, 0.10303683, -0.4978943, -0.23498768, 0.058370817, 0.1894096, 0.33757895, 0.11291478, 0.3696839, 0.64805835, 0.055302937, 0.044499267, -0.24685833, -0.25688624, -0.093971126, 0.0981079, 0.051941104, -0.2288555, 0.2990965, 0.08429446, -0.16764587, 0.43915898, -0.4888046, 0.2808715, -0.08792773, 0.42751348, 0.27240905, -0.08909684, -0.0010022878, 0.028778583, 0.040919952, 0.12963404, 4.4227414, 0.23931739, -0.0022026864, -0.08713324, -0.14241119, 0.38797042, 0.31993422, -0.54332227, 0.035631325, 0.004917034, 0.087380245, 0.01242084, -0.058423586, 0.01925637, -0.10423578, 0.25233942, 0.035112526, 0.08443247, 0.09912918, 0.3893491, -0.34374884, 0.13764599, 0.23530601, -0.04533872, 0.47328094, -0.15767045, 0.2150636, -0.2502004, 0.627591, 0.18240497, 0.26542976, -0.20728962, 0.09868768, 0.03188366, -0.72412395, 0.30891037, 0.004003592, 0.124777846, 0.19721168, 0.006469541, -0.14387907, 0.13898484, 0.14075932, 0.3439018, 0.2796109, -0.11722747, 0.17224756, 0.55084306, 0.037794657, 0.051395714, 0.23296039, 0.15998954, -0.20303455, -0.20470124, 0.3167013, 0.36881834, 0.09838541, 0.32515174, 0.15150222, 0.06886043, -0.09798111, 0.0053527458, 0.24661602, -0.06576668, -0.3879669, -0.031322703, -0.11477727, 0.091267094, 0.07565689, -0.31374562, 0.32762924, 0.35304028, 0.34060004, -0.2319774, 0.21573429, 0.004807403, -0.13523081, 0.13585319, 0.2003291, -0.015715808, 0.43731955, -0.16486709, 0.103724115, 0.45362273, 0.12415355, 0.6076456, -0.025342979, -0.14667435, 0.4196549, -0.12627046, 0.05416707, 0.32335612, -0.0014728719, -0.20032066, 0.30649218, 0.15458286, -0.23828384, -3.9695616, 0.028828539, 0.02502898, 0.21816446, 0.278807, 0.124983124, 0.2271296, 0.5798039, -0.46231523, 0.28656694, -0.2429185, 0.17566644, -0.021454591, 0.6128246, 0.14944611, -0.0780782, 0.25724205, 0.3510012, 0.34061888, -0.14588523, 0.043947782, 0.18325134, 0.2896955, -0.051126957, 0.4925097, 0.21743551, -0.1326081, 0.048203524, -0.20041755, -0.019894442, -0.10946921, 0.20449041, 0.14970396, -0.30216053, 0.29457968, 0.37589327, 0.48139274, -0.20634559, 0.48693413, 0.3225838, -0.26573184, 0.20190479, 0.14317687, 0.31076026, 0.110824145, 0.001673336, -0.50709456, 0.34276798, 0.03972123, -0.088475466, -0.1522325, 0.18213876, -0.22410226, 0.22960088, 0.370362, -0.118123986, 0.18698695, -0.08483551, 0.1846995, 0.3418064, 0.32393715, -0.32643542, 0.06355109, 0.00889822, 0.06990904, -0.0651592, -0.13455142, -0.0050948476, 0.024373641, -0.26230538, 0.25339934, -0.029824376, -0.008033899, 0.21213576, -0.16711952, -0.05372901, 0.12597522, -0.33315703, 0.49698263, 0.05449912, 0.03808202, -0.32601637, -0.422675, 0.45608225, 2.4972408, 0.62556934, 2.2129555, 0.06612086, -0.10491256, 0.10922754, -0.2388907, -0.123478755, 0.046259593, -0.043628734, 0.36907598, 0.6938158, -0.11272278, -0.0026990124, 0.022108164, 0.2784315, 0.31714192, -0.86674523, -0.16757652, 0.08735899, 0.15210292, 0.33994353, -0.17780952, 0.14544551, 0.19868864, -0.047873266, -0.23582356, -0.012130619, 0.13417381, -0.07763767, 0.11704188, -0.016737886, 0.5507485, -0.45742452, 0.32583284, 0.15753481, -0.13165474, 4.6015677, 0.3332057, -0.37287235, -0.0470132, 0.27011716, 0.27000216, 0.3778959, 0.2963425, 0.13048755, 0.6279816, 0.3709438, 0.33156615, -0.28363377, 0.007214147, 0.5582952, 0.17528057, 0.21105735, 0.24147262, 0.47240275, 0.06250062, 0.2923257, -0.3902073, 0.3302428, 0.06590919, 0.17177038, -0.019709816, 0.26578417, -0.22466975, -0.17671639, -0.10596473, 0.16968693, 5.321001, 0.3076291, -0.2145578, -0.25401872, 0.06383897, 0.13550238, 0.12503037, -0.15262105, -0.5287198, -0.0472325, -0.2751498, 0.24989817, -0.008097633, 0.61489844, 0.25057745, 0.302686, -0.23605655, -0.05437459, 0.10321093, 0.0075735226, 0.26049048, -0.44175217, 0.1615057, -0.79645735, -0.2092909, -0.20217672, -0.042868875, 0.40143952, 0.15417634, 0.081932075, 0.24370086, 0.22977261, -0.23404212, 0.15473853, -0.5323039, 0.057126682, 0.69554245, 0.35364822, 0.08778713, -0.013830344, 0.122608714, 0.077365555, -0.2480355, -0.42227384, -0.04273979, -0.0764951, -0.04417157, 0.1519807, -0.040629834, 0.5241981, -0.23609452, -0.069877416, 0.97381073, -0.1420947, 0.0017490166, 0.11767682, -0.16031021, 0.0015084576, 0.18148655, 0.03743576, 0.68793, 0.1181696, -0.23200446, 0.25209922, 0.689987, 0.08882142, 0.20633326, -0.04770281, 0.45907953, -0.06865355, -0.066360876, 0.40096128, -0.20507179, 0.29994345, -0.21694194, -0.18109676, 0.46592185, 0.042785157, 0.2103275, 0.51892865, -0.09047404, -0.15798502, -0.3810195, -0.1668944, 0.018874401, -0.3378942, -0.08502872, 0.29643813, 0.048310813, 0.26062298, 0.100130595, 0.106009424, 0.03775015, 0.35070503, -0.049116805, 0.1800201, 0.30140495, -0.06525528, 0.12602165, 0.0311213, -0.014010725, 0.19724962, -0.15089099, 0.08661329, 0.28373745, -0.30468836, 0.53609157, 0.024650617, 0.07871472, 0.33112913, 0.49368864, 0.45414603, 0.10938713, -0.043233365, -0.21314563]]\n",
       "}"
      ]
     },
     "execution_count": 15,
     "metadata": {},
     "output_type": "execute_result"
    }
   ],
   "source": [
    "co_resp"
   ]
  },
  {
   "cell_type": "markdown",
   "id": "24f25f28-77b4-4245-988e-1a2ccd21f571",
   "metadata": {},
   "source": [
    "We can see that the response includes one embedding"
   ]
  },
  {
   "cell_type": "code",
   "execution_count": 16,
   "id": "7731efa8-ad7d-4787-81af-89cc5bf18592",
   "metadata": {},
   "outputs": [
    {
     "data": {
      "text/plain": [
       "1"
      ]
     },
     "execution_count": 16,
     "metadata": {},
     "output_type": "execute_result"
    }
   ],
   "source": [
    "len(co_resp.embeddings)"
   ]
  },
  {
   "cell_type": "markdown",
   "id": "2df222ec-33ad-4caa-8e96-08c8723c94f1",
   "metadata": {},
   "source": [
    "And it is 768-dimensions long"
   ]
  },
  {
   "cell_type": "code",
   "execution_count": 17,
   "id": "6783f412-42d7-4f61-b782-a4cda3d68217",
   "metadata": {},
   "outputs": [
    {
     "data": {
      "text/plain": [
       "768"
      ]
     },
     "execution_count": 17,
     "metadata": {},
     "output_type": "execute_result"
    }
   ],
   "source": [
    "len(co_resp.embeddings[0])"
   ]
  },
  {
   "cell_type": "markdown",
   "id": "e087b154-7373-41fa-9a12-cb1057302d19",
   "metadata": {},
   "source": [
    "Let's see how close this embedding is to the Weaviate embedding:"
   ]
  },
  {
   "cell_type": "code",
   "execution_count": 18,
   "id": "51aa2c7b-d47b-4886-9ded-74a073e1c5fd",
   "metadata": {},
   "outputs": [
    {
     "data": {
      "text/plain": [
       "{'data': {'Get': {'Question': [{'_additional': {'distance': 0.018137515},\n",
       "     'answer': \"McDonald's\",\n",
       "     'question': 'In 1963, live on \"The Art Linkletter Show\", this company served its billionth burger'},\n",
       "    {'_additional': {'distance': 0.12236416},\n",
       "     'answer': 'the cud',\n",
       "     'question': 'Cows regurgitate this from the first stomach to the mouth & chew it again'}]}}}"
      ]
     },
     "execution_count": 18,
     "metadata": {},
     "output_type": "execute_result"
    }
   ],
   "source": [
    "client.query.get(\n",
    "    \"Question\", \n",
    "    [\"question\", \"answer\"]\n",
    ").with_limit(2).with_near_vector(\n",
    "    {'vector': co_resp.embeddings[0]}\n",
    ").with_additional(['distance']).do()"
   ]
  },
  {
   "cell_type": "markdown",
   "id": "e86f24df-b350-4bbd-bc64-2f00ec85d271",
   "metadata": {},
   "source": [
    "Not bad! But they're not identical - why is that? Actually, Weaviate sorts the text to be concatenated by the property title. "
   ]
  },
  {
   "cell_type": "code",
   "execution_count": 19,
   "id": "6410b238-b4b0-4f45-aaca-89ab5d995fed",
   "metadata": {},
   "outputs": [
    {
     "data": {
      "text/plain": [
       "'McDonald\\'s In 1963, live on \"The Art Linkletter Show\", this company served its billionth burger'"
      ]
     },
     "execution_count": 19,
     "metadata": {},
     "output_type": "execute_result"
    }
   ],
   "source": [
    "str_in = ''\n",
    "for k in sorted(input_props.keys()):\n",
    "    v = input_props[k]\n",
    "    if type(v) == str:\n",
    "        str_in += v + ' '\n",
    "str_in = str_in.strip()  # remove trailing whitespace\n",
    "str_in"
   ]
  },
  {
   "cell_type": "code",
   "execution_count": 20,
   "id": "187a1324-635a-4f79-ab96-bbd7c3b93346",
   "metadata": {},
   "outputs": [
    {
     "data": {
      "text/plain": [
       "{'data': {'Get': {'Question': [{'_additional': {'distance': 0.014731407},\n",
       "     'answer': \"McDonald's\",\n",
       "     'question': 'In 1963, live on \"The Art Linkletter Show\", this company served its billionth burger'},\n",
       "    {'_additional': {'distance': 0.11268568},\n",
       "     'answer': 'the cud',\n",
       "     'question': 'Cows regurgitate this from the first stomach to the mouth & chew it again'}]}}}"
      ]
     },
     "execution_count": 20,
     "metadata": {},
     "output_type": "execute_result"
    }
   ],
   "source": [
    "co_resp = co.embed([str_in], model=\"multilingual-22-12\")\n",
    "wv_resp = client.query.get(\n",
    "    \"Question\", \n",
    "    [\"question\", \"answer\"]\n",
    ").with_limit(2).with_near_vector(\n",
    "    {'vector': co_resp.embeddings[0]}\n",
    ").with_additional(['distance']).do()\n",
    "wv_resp"
   ]
  },
  {
   "cell_type": "markdown",
   "id": "db0a511f-e06f-4db6-8584-b3bc1d2ad63b",
   "metadata": {},
   "source": [
    "We are **so very close** - But the input vector is still not identical to the Weaviate-generated one! Why is that?"
   ]
  },
  {
   "cell_type": "markdown",
   "id": "cb50a126-ea3c-4f06-b738-44f16edab49c",
   "metadata": {},
   "source": [
    "That's because the default behaviour also includes the class name. Let's add the class name."
   ]
  },
  {
   "cell_type": "code",
   "execution_count": 21,
   "id": "7ceb876e-54fa-4871-8f11-bf03849538a7",
   "metadata": {},
   "outputs": [],
   "source": [
    "str_in = ''\n",
    "for k in sorted(input_props.keys()):\n",
    "    v = input_props[k]\n",
    "    if type(v) == str:\n",
    "        str_in += v + ' '\n",
    "str_in = 'question ' + str_in.strip()  # remove trailing whitespace"
   ]
  },
  {
   "cell_type": "code",
   "execution_count": 22,
   "id": "7b1dda65-dfad-4476-a256-1348a7d0deb4",
   "metadata": {},
   "outputs": [
    {
     "data": {
      "text/plain": [
       "'question McDonald\\'s In 1963, live on \"The Art Linkletter Show\", this company served its billionth burger'"
      ]
     },
     "execution_count": 22,
     "metadata": {},
     "output_type": "execute_result"
    }
   ],
   "source": [
    "str_in"
   ]
  },
  {
   "cell_type": "code",
   "execution_count": 23,
   "id": "714321c5-88e3-4b45-9954-b0d713884845",
   "metadata": {},
   "outputs": [
    {
     "data": {
      "text/plain": [
       "{'data': {'Get': {'Question': [{'_additional': {'distance': 0.007935405},\n",
       "     'answer': \"McDonald's\",\n",
       "     'question': 'In 1963, live on \"The Art Linkletter Show\", this company served its billionth burger'},\n",
       "    {'_additional': {'distance': 0.10493815},\n",
       "     'answer': 'the cud',\n",
       "     'question': 'Cows regurgitate this from the first stomach to the mouth & chew it again'}]}}}"
      ]
     },
     "execution_count": 23,
     "metadata": {},
     "output_type": "execute_result"
    }
   ],
   "source": [
    "co_resp = co.embed([str_in], model=\"multilingual-22-12\")\n",
    "client.query.get(\n",
    "    \"Question\", \n",
    "    [\"question\", \"answer\"]\n",
    ").with_limit(2).with_near_vector(\n",
    "    {'vector': co_resp.embeddings[0]}\n",
    ").with_additional(['distance']).do()"
   ]
  },
  {
   "cell_type": "markdown",
   "id": "9a5abe05-c0b9-433c-97f8-f2b598c607f4",
   "metadata": {},
   "source": [
    "It's very close, but not quite zero yet."
   ]
  },
  {
   "cell_type": "markdown",
   "id": "42016cdf-4e13-49bb-8526-0e75853f97f6",
   "metadata": {},
   "source": [
    "Weaviate also changes the text to lowercase, so let's incorporate that also."
   ]
  },
  {
   "cell_type": "code",
   "execution_count": 24,
   "id": "33c6cc25-2df8-4b28-a452-dd57821c4080",
   "metadata": {},
   "outputs": [],
   "source": [
    "str_in = ''\n",
    "for k in sorted(input_props.keys()):\n",
    "    v = input_props[k]\n",
    "    if type(v) == str:\n",
    "        str_in += v + ' '\n",
    "str_in = 'question ' + str_in.lower().strip()  # remove trailing whitespace"
   ]
  },
  {
   "cell_type": "code",
   "execution_count": 25,
   "id": "724c48c2-8f89-4faf-8c2c-d7349306c893",
   "metadata": {},
   "outputs": [
    {
     "data": {
      "text/plain": [
       "'question mcdonald\\'s in 1963, live on \"the art linkletter show\", this company served its billionth burger'"
      ]
     },
     "execution_count": 25,
     "metadata": {},
     "output_type": "execute_result"
    }
   ],
   "source": [
    "str_in"
   ]
  },
  {
   "cell_type": "code",
   "execution_count": 26,
   "id": "86b236fa-1a6a-4a6a-95d2-3b8878bfa956",
   "metadata": {},
   "outputs": [
    {
     "data": {
      "text/plain": [
       "{'data': {'Get': {'Question': [{'_additional': {'distance': 1.7881393e-07},\n",
       "     'answer': \"McDonald's\",\n",
       "     'question': 'In 1963, live on \"The Art Linkletter Show\", this company served its billionth burger'},\n",
       "    {'_additional': {'distance': 0.105109274},\n",
       "     'answer': 'the cud',\n",
       "     'question': 'Cows regurgitate this from the first stomach to the mouth & chew it again'}]}}}"
      ]
     },
     "execution_count": 26,
     "metadata": {},
     "output_type": "execute_result"
    }
   ],
   "source": [
    "co_resp = co.embed([str_in], model=\"multilingual-22-12\")\n",
    "client.query.get(\n",
    "    \"Question\", \n",
    "    [\"question\", \"answer\"]\n",
    ").with_limit(2).with_near_vector(\n",
    "    {'vector': co_resp.embeddings[0]}\n",
    ").with_additional(['distance']).do()"
   ]
  },
  {
   "cell_type": "markdown",
   "id": "30dce8a8-b628-4c99-8c7b-a557e6454106",
   "metadata": {},
   "source": [
    "Look! We have an identical vector."
   ]
  },
  {
   "cell_type": "markdown",
   "id": "f24ccdb0-a2bd-42ee-94b5-7bc1e5b33a14",
   "metadata": {},
   "source": [
    "### Tweaking of vectorization"
   ]
  },
  {
   "cell_type": "markdown",
   "id": "853b2473-8999-4040-b199-36d8c88805f0",
   "metadata": {},
   "source": [
    "Now that we know the default behaviour, let's try tweaking it to do something different. "
   ]
  },
  {
   "cell_type": "markdown",
   "id": "e5e52805-52f9-4a0b-ad18-4e2e3d626deb",
   "metadata": {},
   "source": [
    "Did you notice that in the exercise above, we *hadn't* set a schema before importing the data? What happened was that Weaviate created a schema with the auto-import feature."
   ]
  },
  {
   "cell_type": "markdown",
   "id": "63a7d65b-d9fe-4fc0-8a19-bd23b6f1a04b",
   "metadata": {},
   "source": [
    "Let's define a schema. Incidentally, this is where we define what properties are to be vectorized (or not)."
   ]
  },
  {
   "cell_type": "code",
   "execution_count": 27,
   "id": "6a730665-374d-47ba-aa0b-24484a2c3977",
   "metadata": {},
   "outputs": [
    {
     "data": {
      "text/plain": [
       "{'classes': []}"
      ]
     },
     "execution_count": 27,
     "metadata": {},
     "output_type": "execute_result"
    }
   ],
   "source": [
    "client.schema.delete_all()\n",
    "client.schema.get()"
   ]
  },
  {
   "cell_type": "code",
   "execution_count": 28,
   "id": "1fa332ad-05c6-4401-82f0-b227906f3f13",
   "metadata": {},
   "outputs": [
    {
     "data": {
      "text/plain": [
       "{'classes': [{'class': 'Question',\n",
       "   'description': 'Details of a Jeopardy! question',\n",
       "   'invertedIndexConfig': {'bm25': {'b': 0.75, 'k1': 1.2},\n",
       "    'cleanupIntervalSeconds': 60,\n",
       "    'stopwords': {'additions': None, 'preset': 'en', 'removals': None}},\n",
       "   'moduleConfig': {'text2vec-cohere': {'vectorizeClassName': False}},\n",
       "   'properties': [{'dataType': ['string'],\n",
       "     'description': 'What the host prompts the contestants with.',\n",
       "     'moduleConfig': {'text2vec-cohere': {'skip': False,\n",
       "       'vectorizePropertyName': False}},\n",
       "     'name': 'answer',\n",
       "     'tokenization': 'word'},\n",
       "    {'dataType': ['string'],\n",
       "     'description': 'What the contestant is to provide.',\n",
       "     'moduleConfig': {'text2vec-cohere': {'skip': False,\n",
       "       'vectorizePropertyName': True}},\n",
       "     'name': 'question',\n",
       "     'tokenization': 'word'}],\n",
       "   'shardingConfig': {'virtualPerPhysical': 128,\n",
       "    'desiredCount': 1,\n",
       "    'actualCount': 1,\n",
       "    'desiredVirtualCount': 128,\n",
       "    'actualVirtualCount': 128,\n",
       "    'key': '_id',\n",
       "    'strategy': 'hash',\n",
       "    'function': 'murmur3'},\n",
       "   'vectorIndexConfig': {'skip': False,\n",
       "    'cleanupIntervalSeconds': 300,\n",
       "    'maxConnections': 64,\n",
       "    'efConstruction': 128,\n",
       "    'ef': -1,\n",
       "    'dynamicEfMin': 100,\n",
       "    'dynamicEfMax': 500,\n",
       "    'dynamicEfFactor': 8,\n",
       "    'vectorCacheMaxObjects': 1000000000000,\n",
       "    'flatSearchCutoff': 40000,\n",
       "    'distance': 'cosine'},\n",
       "   'vectorIndexType': 'hnsw',\n",
       "   'vectorizer': 'text2vec-cohere'}]}"
      ]
     },
     "execution_count": 28,
     "metadata": {},
     "output_type": "execute_result"
    }
   ],
   "source": [
    "question_class = {\n",
    "    \"class\": \"Question\",\n",
    "    \"description\": \"Details of a Jeopardy! question\",    \n",
    "    \"moduleConfig\": {\n",
    "        \"text2vec-cohere\": {  # The vectorizer name - must match the vectorizer used\n",
    "            \"vectorizeClassName\": False,  # Ignore class name\n",
    "        },\n",
    "    },\n",
    "    \"properties\": [\n",
    "        {\n",
    "            \"name\": \"answer\",    \n",
    "            \"description\": \"What the host prompts the contestants with.\",            \n",
    "            \"dataType\": [\"string\"],\n",
    "            \"moduleConfig\": {\n",
    "                \"text2vec-cohere\": {\n",
    "                    \"skip\": False,  # Do not skip class\n",
    "                    \"vectorizePropertyName\": False  # Ignore property name\n",
    "                }\n",
    "            }\n",
    "        },\n",
    "        {\n",
    "            \"name\": \"question\",\n",
    "            \"description\": \"What the contestant is to provide.\",\n",
    "            \"dataType\": [\"string\"],\n",
    "            \"moduleConfig\": {\n",
    "                \"text2vec-cohere\": {\n",
    "                    \"skip\": False,  # Do not skip class\n",
    "                    \"vectorizePropertyName\": True  # Do not ignore property name\n",
    "                }\n",
    "            }\n",
    "        },        \n",
    "    ]\n",
    "}\n",
    "\n",
    "client.schema.create_class(question_class)\n",
    "client.schema.get()"
   ]
  },
  {
   "cell_type": "markdown",
   "id": "d15bf5e6-8cea-4988-aaf3-541a375bd061",
   "metadata": {},
   "source": [
    "Populate Weaviate again with the new schema"
   ]
  },
  {
   "cell_type": "code",
   "execution_count": 29,
   "id": "f17c02b9-1eb8-4a27-9a4a-bdda448f19fb",
   "metadata": {},
   "outputs": [
    {
     "data": {
      "text/plain": [
       "{'deprecations': None,\n",
       " 'objects': [{'class': 'Question',\n",
       "   'creationTimeUnix': 1673090452982,\n",
       "   'id': '0fe37df4-856c-4c79-8ce8-5318d57d3c65',\n",
       "   'lastUpdateTimeUnix': 1673090452982,\n",
       "   'properties': {'answer': '(Lou) Gehrig',\n",
       "    'question': 'No. 10: FB/LB for Columbia U. in the 1920s; MVP for the Yankees in \\'27 & \\'36; \"Gibraltar in Cleats\"'},\n",
       "   'vectorWeights': None},\n",
       "  {'class': 'Question',\n",
       "   'creationTimeUnix': 1673090452525,\n",
       "   'id': '109fd6af-f605-4bec-b419-45ff1d9bba79',\n",
       "   'lastUpdateTimeUnix': 1673090452525,\n",
       "   'properties': {'answer': 'Arizona',\n",
       "    'question': 'The city of Yuma in this state has a record average of 4,055 hours of sunshine each year'},\n",
       "   'vectorWeights': None},\n",
       "  {'class': 'Question',\n",
       "   'creationTimeUnix': 1673090452525,\n",
       "   'id': '11c93af8-3c80-4d25-8239-8ed4f8a87c2c',\n",
       "   'lastUpdateTimeUnix': 1673090452525,\n",
       "   'properties': {'answer': 'John Adams',\n",
       "    'question': 'Signer of the Dec. of Indep., framer of the Constitution of Mass., second President of the United States'},\n",
       "   'vectorWeights': None},\n",
       "  {'class': 'Question',\n",
       "   'creationTimeUnix': 1673090452525,\n",
       "   'id': '14a1789d-3b81-4adc-b11b-78fbad76fd4c',\n",
       "   'lastUpdateTimeUnix': 1673090452525,\n",
       "   'properties': {'answer': 'Jim Brown',\n",
       "    'question': 'No. 1: Lettered in hoops, football & lacrosse at Syracuse & if you think he couldn\\'t act, ask his 11 \"unclean\" buddies'},\n",
       "   'vectorWeights': None},\n",
       "  {'class': 'Question',\n",
       "   'creationTimeUnix': 1673090452525,\n",
       "   'id': '176f760c-be05-4d42-bb5a-bebc1df5ee09',\n",
       "   'lastUpdateTimeUnix': 1673090452525,\n",
       "   'properties': {'answer': 'the UV index',\n",
       "    'question': \"On June 28, 1994 the nat'l weather service began issuing this index that rates the intensity of the sun's radiation\"},\n",
       "   'vectorWeights': None},\n",
       "  {'class': 'Question',\n",
       "   'creationTimeUnix': 1673090452525,\n",
       "   'id': '1b69a2f1-04b0-4302-9e71-2b560c131b70',\n",
       "   'lastUpdateTimeUnix': 1673090452525,\n",
       "   'properties': {'answer': 'Ceylon (or Sri Lanka)',\n",
       "    'question': 'In 1000 Rajaraja I of the Cholas battled to take this Indian Ocean island now known for its tea'},\n",
       "   'vectorWeights': None},\n",
       "  {'class': 'Question',\n",
       "   'creationTimeUnix': 1673090452525,\n",
       "   'id': '27278a42-a671-4437-9821-5f8c428418e8',\n",
       "   'lastUpdateTimeUnix': 1673090452525,\n",
       "   'properties': {'answer': 'Copernicus',\n",
       "    'question': \"For the last 8 years of his life, Galileo was under house arrest for espousing this man's theory\"},\n",
       "   'vectorWeights': None},\n",
       "  {'class': 'Question',\n",
       "   'creationTimeUnix': 1673090452525,\n",
       "   'id': '285fe0b1-3b00-4787-a91b-5eb34eabea6a',\n",
       "   'lastUpdateTimeUnix': 1673090452525,\n",
       "   'properties': {'answer': 'Jackie Gleason', 'question': '\"And away we go\"'},\n",
       "   'vectorWeights': None},\n",
       "  {'class': 'Question',\n",
       "   'creationTimeUnix': 1673090452525,\n",
       "   'id': '3c5bbe99-052a-4544-b9d0-ccdcaeb2b88c',\n",
       "   'lastUpdateTimeUnix': 1673090452525,\n",
       "   'properties': {'answer': 'the cud',\n",
       "    'question': 'Cows regurgitate this from the first stomach to the mouth & chew it again'},\n",
       "   'vectorWeights': None},\n",
       "  {'class': 'Question',\n",
       "   'creationTimeUnix': 1673090452525,\n",
       "   'id': '46b2648c-ea25-4858-adb7-d874c62a6156',\n",
       "   'lastUpdateTimeUnix': 1673090452525,\n",
       "   'properties': {'answer': 'the ant',\n",
       "    'question': 'In the title of an Aesop fable, this insect shared billing with a grasshopper'},\n",
       "   'vectorWeights': None},\n",
       "  {'class': 'Question',\n",
       "   'creationTimeUnix': 1673090452525,\n",
       "   'id': '4db2798c-7be8-4c07-9b63-1fdffd9dd5ac',\n",
       "   'lastUpdateTimeUnix': 1673090452525,\n",
       "   'properties': {'answer': 'Crate & Barrel',\n",
       "    'question': 'This housewares store was named for the packaging its merchandise came in & was first displayed on'},\n",
       "   'vectorWeights': None},\n",
       "  {'class': 'Question',\n",
       "   'creationTimeUnix': 1673090452982,\n",
       "   'id': '6ada3879-9445-4fd0-9944-3043ac6575e8',\n",
       "   'lastUpdateTimeUnix': 1673090452982,\n",
       "   'properties': {'answer': 'the International',\n",
       "    'question': 'Karl led the first of these Marxist organizational efforts; the second one began in 1889'},\n",
       "   'vectorWeights': None},\n",
       "  {'class': 'Question',\n",
       "   'creationTimeUnix': 1673090452525,\n",
       "   'id': '71079daf-653e-4acb-95c5-3ea1a6142497',\n",
       "   'lastUpdateTimeUnix': 1673090452525,\n",
       "   'properties': {'answer': 'imp',\n",
       "    'question': 'A small demon, or a mischievous child (who might be a little demon!)'},\n",
       "   'vectorWeights': None},\n",
       "  {'class': 'Question',\n",
       "   'creationTimeUnix': 1673090452525,\n",
       "   'id': '7b435f69-287b-46b0-beb7-d6886cb21aaf',\n",
       "   'lastUpdateTimeUnix': 1673090452525,\n",
       "   'properties': {'answer': 'Jesse James',\n",
       "    'question': 'Outlaw: \"Murdered by a traitor and a coward whose name is not worthy to appear here\"'},\n",
       "   'vectorWeights': None},\n",
       "  {'class': 'Question',\n",
       "   'creationTimeUnix': 1673090452525,\n",
       "   'id': '9449bdf0-bbb8-4fe1-ae4d-6312bd8dc0c1',\n",
       "   'lastUpdateTimeUnix': 1673090452525,\n",
       "   'properties': {'answer': 'Jim Thorpe',\n",
       "    'question': 'No. 2: 1912 Olympian; football star at Carlisle Indian School; 6 MLB seasons with the Reds, Giants & Braves'},\n",
       "   'vectorWeights': None},\n",
       "  {'class': 'Question',\n",
       "   'creationTimeUnix': 1673090452525,\n",
       "   'id': 'af12250b-1ad2-4ace-b14f-b831b961a1fd',\n",
       "   'lastUpdateTimeUnix': 1673090452525,\n",
       "   'properties': {'answer': 'Michael Jordan',\n",
       "    'question': 'No. 8: 30 steals for the Birmingham Barons; 2,306 steals for the Bulls'},\n",
       "   'vectorWeights': None},\n",
       "  {'class': 'Question',\n",
       "   'creationTimeUnix': 1673090452525,\n",
       "   'id': 'b4abf5b9-b327-46ed-93e7-6b76650cafac',\n",
       "   'lastUpdateTimeUnix': 1673090452525,\n",
       "   'properties': {'answer': 'Washington',\n",
       "    'question': 'In the winter of 1971-72, a record 1,122 inches of snow fell at Rainier Paradise Ranger Station in this state'},\n",
       "   'vectorWeights': None},\n",
       "  {'class': 'Question',\n",
       "   'creationTimeUnix': 1673090452525,\n",
       "   'id': 'd61118b9-a61f-4f46-8cad-47e573793421',\n",
       "   'lastUpdateTimeUnix': 1673090452525,\n",
       "   'properties': {'answer': 'Bulova',\n",
       "    'question': \"This company's Accutron watch, introduced in 1960, had a guarantee of accuracy to within one minute a  month\"},\n",
       "   'vectorWeights': None},\n",
       "  {'class': 'Question',\n",
       "   'creationTimeUnix': 1673090452525,\n",
       "   'id': 'dc92c21e-525a-4fc6-9898-73408b385a4d',\n",
       "   'lastUpdateTimeUnix': 1673090452525,\n",
       "   'properties': {'answer': 'the Appian Way',\n",
       "    'question': \"Built in 312 B.C. to link Rome & the South of Italy, it's still in use today\"},\n",
       "   'vectorWeights': None},\n",
       "  {'class': 'Question',\n",
       "   'creationTimeUnix': 1673090452525,\n",
       "   'id': 'f92e84b7-8fdd-4ec7-82c0-5c6b8c31cfbe',\n",
       "   'lastUpdateTimeUnix': 1673090452525,\n",
       "   'properties': {'answer': \"McDonald's\",\n",
       "    'question': 'In 1963, live on \"The Art Linkletter Show\", this company served its billionth burger'},\n",
       "   'vectorWeights': None}],\n",
       " 'totalResults': 20}"
      ]
     },
     "execution_count": 29,
     "metadata": {},
     "output_type": "execute_result"
    }
   ],
   "source": [
    "for i, row in df.iterrows():\n",
    "    properties = {\n",
    "        \"question\": row.Question,\n",
    "        \"answer\": row.Answer\n",
    "    }\n",
    "    client.batch.add_data_object(properties, \"Question\")\n",
    "client.batch.flush()\n",
    "client.data_object.get()"
   ]
  },
  {
   "cell_type": "markdown",
   "id": "c3e441cb-d89f-4b94-b191-ad3cb93647cd",
   "metadata": {},
   "source": [
    "Now let's take another look at the vector, comparing the distance to the nearest hit:"
   ]
  },
  {
   "cell_type": "code",
   "execution_count": 30,
   "id": "84b180db-54d3-4cff-9101-8b94b6b3dc02",
   "metadata": {},
   "outputs": [],
   "source": [
    "str_in = ''\n",
    "for k in sorted(input_props.keys()):\n",
    "    v = input_props[k]\n",
    "    if type(v) == str:\n",
    "        str_in += v + ' '\n",
    "str_in = str_in.lower().strip()  # remove trailing whitespace\n",
    "str_in = 'question ' + str_in"
   ]
  },
  {
   "cell_type": "code",
   "execution_count": 31,
   "id": "0079d210-a58d-4ef5-a78e-86381fbed4dd",
   "metadata": {},
   "outputs": [
    {
     "data": {
      "text/plain": [
       "{'data': {'Get': {'Question': [{'_additional': {'distance': 0.003951192},\n",
       "     'answer': \"McDonald's\",\n",
       "     'question': 'In 1963, live on \"The Art Linkletter Show\", this company served its billionth burger'},\n",
       "    {'_additional': {'distance': 0.10788387},\n",
       "     'answer': 'the cud',\n",
       "     'question': 'Cows regurgitate this from the first stomach to the mouth & chew it again'}]}}}"
      ]
     },
     "execution_count": 31,
     "metadata": {},
     "output_type": "execute_result"
    }
   ],
   "source": [
    "co_resp = co.embed([str_in], model=\"multilingual-22-12\")\n",
    "client.query.get(\n",
    "    \"Question\", \n",
    "    [\"question\", \"answer\"]\n",
    ").with_limit(2).with_near_vector(\n",
    "    {'vector': co_resp.embeddings[0]}\n",
    ").with_additional(['distance']).do()"
   ]
  },
  {
   "cell_type": "markdown",
   "id": "47ea1149-927d-4d76-8df0-f128488a72da",
   "metadata": {},
   "source": [
    "The distance is no longer zero!"
   ]
  },
  {
   "cell_type": "markdown",
   "id": "540ec8de-2900-4dc7-b9b6-023841fc38ea",
   "metadata": {},
   "source": [
    "That's because we have changed the schema."
   ]
  },
  {
   "cell_type": "code",
   "execution_count": 32,
   "id": "44247a3e-82f3-4a72-88f0-2ebf62efb7d5",
   "metadata": {},
   "outputs": [],
   "source": [
    "str_in = ''\n",
    "for k in sorted(input_props.keys()):\n",
    "    v = input_props[k]\n",
    "    if type(v) == str:\n",
    "        if k == 'question':\n",
    "            str_in += k + ' '\n",
    "        str_in += v + ' '\n",
    "str_in = str_in.lower().strip()\n",
    "str_in = str_in"
   ]
  },
  {
   "cell_type": "code",
   "execution_count": 33,
   "id": "0c331be1-454f-4dea-9ca3-7fb9f99c15ab",
   "metadata": {},
   "outputs": [
    {
     "data": {
      "text/plain": [
       "'mcdonald\\'s question in 1963, live on \"the art linkletter show\", this company served its billionth burger'"
      ]
     },
     "execution_count": 33,
     "metadata": {},
     "output_type": "execute_result"
    }
   ],
   "source": [
    "str_in"
   ]
  },
  {
   "cell_type": "code",
   "execution_count": 34,
   "id": "c54186b5-4656-4bc1-8e61-135062d7a041",
   "metadata": {},
   "outputs": [
    {
     "data": {
      "text/plain": [
       "{'data': {'Get': {'Question': [{'_additional': {'distance': -1.1920929e-07},\n",
       "     'answer': \"McDonald's\",\n",
       "     'question': 'In 1963, live on \"The Art Linkletter Show\", this company served its billionth burger'},\n",
       "    {'_additional': {'distance': 0.10982114},\n",
       "     'answer': 'the cud',\n",
       "     'question': 'Cows regurgitate this from the first stomach to the mouth & chew it again'}]}}}"
      ]
     },
     "execution_count": 34,
     "metadata": {},
     "output_type": "execute_result"
    }
   ],
   "source": [
    "co_resp = co.embed([str_in], model=\"multilingual-22-12\")\n",
    "client.query.get(\n",
    "    \"Question\", \n",
    "    [\"question\", \"answer\"]\n",
    ").with_limit(2).with_near_vector(\n",
    "    {'vector': co_resp.embeddings[0]}\n",
    ").with_additional(['distance']).do()"
   ]
  },
  {
   "cell_type": "markdown",
   "id": "03859b8d-0608-41a5-92f2-b64966617b7e",
   "metadata": {},
   "source": [
    "Adding the property title now returns our `distance` back to zero."
   ]
  },
  {
   "cell_type": "code",
   "execution_count": null,
   "id": "e04dac31-2790-4e01-b85a-abdac24e3f26",
   "metadata": {},
   "outputs": [],
   "source": []
  }
 ],
 "metadata": {
  "kernelspec": {
   "display_name": "Python 3 (ipykernel)",
   "language": "python",
   "name": "python3"
  },
  "language_info": {
   "codemirror_mode": {
    "name": "ipython",
    "version": 3
   },
   "file_extension": ".py",
   "mimetype": "text/x-python",
   "name": "python",
   "nbconvert_exporter": "python",
   "pygments_lexer": "ipython3",
   "version": "3.9.13"
  }
 },
 "nbformat": 4,
 "nbformat_minor": 5
}
