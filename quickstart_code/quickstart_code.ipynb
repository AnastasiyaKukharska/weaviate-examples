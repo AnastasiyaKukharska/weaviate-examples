{
 "cells": [
  {
   "attachments": {},
   "cell_type": "markdown",
   "id": "7e3a0557",
   "metadata": {},
   "source": [
    "## Weaviate Quickstart - Python code\n",
    "\n",
    "This is an example Python (Jupyter) notebook for the [Weaviate Quickstart tutorial](https://weaviate.io/developers/weaviate/quickstart).\n",
    "\n",
    "<a target=\"_blank\" href=\"https://colab.research.google.com/github/weaviate/weaviate-examples/blob/main/quickstart_code/quickstart_code.ipynb\">\n",
    "  <img src=\"https://colab.research.google.com/assets/colab-badge.svg\" alt=\"Open In Colab\"/>\n",
    "</a>\n",
    "\n",
    "*Last updated: 2 Feb 2023*"
   ]
  },
  {
   "cell_type": "code",
   "execution_count": 1,
   "id": "a7506810-bdb8-4938-ba35-7b8b7d2fa14c",
   "metadata": {},
   "outputs": [],
   "source": [
    "# Load OpenAI token - replace with script to load your token, e.g. from your environment variables, via:\n",
    "# import os\n",
    "# api_tkn = os.getenv('OPENAI_APIKEY')\n",
    "\n",
    "with open('../../keys/openai_key.txt', 'r') as f:\n",
    "    api_tkn = f.read().strip()\n",
    "\n",
    "# Import libraries\n",
    "import weaviate\n",
    "import json\n",
    "\n",
    "# Instantiate Weaviate client\n",
    "client = weaviate.Client(\n",
    "    url=\"https://some-endpoint.weaviate.network\",  # Replace this with your WCS or Docker endpoint (use HTTP, not HTTPS for local addresses)\n",
    "    additional_headers={\n",
    "        \"X-OpenAI-Api-Key\": api_tkn  # Or \"X-Cohere-Api-Key\" or \"X-HuggingFace-Api-Key\" \n",
    "    }\n",
    ")"
   ]
  },
  {
   "cell_type": "code",
   "execution_count": 2,
   "id": "75ad4907-3cb8-41b3-83b2-b8f22fc478c1",
   "metadata": {},
   "outputs": [
    {
     "name": "stdout",
     "output_type": "stream",
     "text": [
      "{\n",
      "    \"classes\": []\n",
      "}\n"
     ]
    }
   ],
   "source": [
    "# Delete existing schema (if necessary - THIS WILL ALSO DELETE ALL OF YOUR DATA)\n",
    "client.schema.delete_all()\n",
    "\n",
    "# Fetch & inspect schema (should be empty)\n",
    "schema = client.schema.get()\n",
    "print(json.dumps(schema, indent=4))"
   ]
  },
  {
   "cell_type": "code",
   "execution_count": 3,
   "id": "0f368ec2-6df8-4696-a926-e440a69e66e8",
   "metadata": {},
   "outputs": [],
   "source": [
    "# ===== add schema ===== \n",
    "class_obj = {\n",
    "    \"class\": \"Question\",\n",
    "    \"vectorizer\": \"text2vec-openai\"  # Or \"text2vec-cohere\" or \"text2vec-huggingface\"\n",
    "}\n",
    "\n",
    "client.schema.create_class(class_obj)"
   ]
  },
  {
   "cell_type": "code",
   "execution_count": 4,
   "id": "46905daa-6348-4bd1-9ef1-86969a2e77e1",
   "metadata": {},
   "outputs": [
    {
     "name": "stdout",
     "output_type": "stream",
     "text": [
      "importing question: 1\n",
      "importing question: 2\n",
      "importing question: 3\n",
      "importing question: 4\n",
      "importing question: 5\n",
      "importing question: 6\n",
      "importing question: 7\n",
      "importing question: 8\n",
      "importing question: 9\n",
      "importing question: 10\n"
     ]
    }
   ],
   "source": [
    "# ===== import data ===== \n",
    "# Load data from the data.json file\n",
    "with open('jeopardy_tiny.json', 'r') as f:\n",
    "    data = json.load(f)\n",
    "\n",
    "# Configure a batch process\n",
    "with client.batch as batch:\n",
    "    batch.batch_size=100\n",
    "    # Batch import all Questions\n",
    "    for i, d in enumerate(data):\n",
    "        print(f\"importing question: {i+1}\")\n",
    "\n",
    "        properties = {\n",
    "            \"answer\": d[\"Answer\"],\n",
    "            \"question\": d[\"Question\"],\n",
    "            \"category\": d[\"Category\"],\n",
    "        }\n",
    "\n",
    "        client.batch.add_data_object(properties, \"Question\")"
   ]
  },
  {
   "cell_type": "code",
   "execution_count": 5,
   "id": "d5c034e8-dcf8-43ba-9c17-fc929da47c6a",
   "metadata": {},
   "outputs": [
    {
     "data": {
      "text/plain": [
       "{'deprecations': None,\n",
       " 'objects': [{'class': 'Question',\n",
       "   'creationTimeUnix': 1675299167735,\n",
       "   'id': '007f2d5f-9522-4596-913a-b3c669df1b89',\n",
       "   'lastUpdateTimeUnix': 1675299167735,\n",
       "   'properties': {'answer': 'species',\n",
       "    'category': 'SCIENCE',\n",
       "    'question': \"2000 news: the Gunnison sage grouse isn't just another northern sage grouse, but a new one of this classification\"},\n",
       "   'vectorWeights': None},\n",
       "  {'class': 'Question',\n",
       "   'creationTimeUnix': 1675299167736,\n",
       "   'id': '4528b6bb-f091-4403-8359-04b18f657305',\n",
       "   'lastUpdateTimeUnix': 1675299167736,\n",
       "   'properties': {'answer': 'the nose or snout',\n",
       "    'category': 'ANIMALS',\n",
       "    'question': 'The gavial looks very much like a crocodile except for this bodily feature'},\n",
       "   'vectorWeights': None},\n",
       "  {'class': 'Question',\n",
       "   'creationTimeUnix': 1675299167736,\n",
       "   'id': '4a39f51a-0bb2-4a8e-b55a-c39bd4227e60',\n",
       "   'lastUpdateTimeUnix': 1675299167736,\n",
       "   'properties': {'answer': 'Antelope',\n",
       "    'category': 'ANIMALS',\n",
       "    'question': 'Weighing around a ton, the eland is the largest species of this animal in Africa'},\n",
       "   'vectorWeights': None},\n",
       "  {'class': 'Question',\n",
       "   'creationTimeUnix': 1675299167736,\n",
       "   'id': '6da3b813-9019-4594-ab73-65f87586c717',\n",
       "   'lastUpdateTimeUnix': 1675299167736,\n",
       "   'properties': {'answer': 'the diamondback rattler',\n",
       "    'category': 'ANIMALS',\n",
       "    'question': 'Heaviest of all poisonous snakes is this North American rattlesnake'},\n",
       "   'vectorWeights': None},\n",
       "  {'class': 'Question',\n",
       "   'creationTimeUnix': 1675299167735,\n",
       "   'id': '9b33fef5-c685-4f13-99db-28aab343d8b2',\n",
       "   'lastUpdateTimeUnix': 1675299167735,\n",
       "   'properties': {'answer': 'wire',\n",
       "    'category': 'SCIENCE',\n",
       "    'question': 'A metal that is \"ductile\" can be pulled into this while cold & under pressure'},\n",
       "   'vectorWeights': None},\n",
       "  {'class': 'Question',\n",
       "   'creationTimeUnix': 1675299167735,\n",
       "   'id': 'a5e64d43-08b0-4513-b187-94fb0e82e519',\n",
       "   'lastUpdateTimeUnix': 1675299167735,\n",
       "   'properties': {'answer': 'Sound barrier',\n",
       "    'category': 'SCIENCE',\n",
       "    'question': 'In 70-degree air, a plane traveling at about 1,130 feet per second breaks it'},\n",
       "   'vectorWeights': None},\n",
       "  {'class': 'Question',\n",
       "   'creationTimeUnix': 1675299167736,\n",
       "   'id': 'a7b853f8-9817-4cb4-97c8-84739f1526c6',\n",
       "   'lastUpdateTimeUnix': 1675299167736,\n",
       "   'properties': {'answer': 'the atmosphere',\n",
       "    'category': 'SCIENCE',\n",
       "    'question': 'Changes in the tropospheric layer of this are what gives us weather'},\n",
       "   'vectorWeights': None},\n",
       "  {'class': 'Question',\n",
       "   'creationTimeUnix': 1675299167735,\n",
       "   'id': 'abb5a70c-2ce8-4603-a819-644440432cbc',\n",
       "   'lastUpdateTimeUnix': 1675299167735,\n",
       "   'properties': {'answer': 'Elephant',\n",
       "    'category': 'ANIMALS',\n",
       "    'question': \"It's the only living mammal in the order Proboseidea\"},\n",
       "   'vectorWeights': None},\n",
       "  {'class': 'Question',\n",
       "   'creationTimeUnix': 1675299167736,\n",
       "   'id': 'b14556a8-fdae-4281-8fac-34a34d19bffb',\n",
       "   'lastUpdateTimeUnix': 1675299167736,\n",
       "   'properties': {'answer': 'DNA',\n",
       "    'category': 'SCIENCE',\n",
       "    'question': 'In 1953 Watson & Crick built a model of the molecular structure of this, the gene-carrying substance'},\n",
       "   'vectorWeights': None},\n",
       "  {'class': 'Question',\n",
       "   'creationTimeUnix': 1675299167736,\n",
       "   'id': 'f8c58983-5393-447f-96af-95a7cc3c607a',\n",
       "   'lastUpdateTimeUnix': 1675299167736,\n",
       "   'properties': {'answer': 'Liver',\n",
       "    'category': 'SCIENCE',\n",
       "    'question': 'This organ removes excess glucose from the blood & stores it as glycogen'},\n",
       "   'vectorWeights': None}],\n",
       " 'totalResults': 10}"
      ]
     },
     "execution_count": 5,
     "metadata": {},
     "output_type": "execute_result"
    }
   ],
   "source": [
    "client.data_object.get()"
   ]
  },
  {
   "cell_type": "code",
   "execution_count": 6,
   "id": "7649b19d-b361-41d8-b211-1cf92a890472",
   "metadata": {},
   "outputs": [
    {
     "name": "stdout",
     "output_type": "stream",
     "text": [
      "{\n",
      "    \"data\": {\n",
      "        \"Get\": {\n",
      "            \"Question\": [\n",
      "                {\n",
      "                    \"answer\": \"DNA\",\n",
      "                    \"category\": \"SCIENCE\",\n",
      "                    \"question\": \"In 1953 Watson & Crick built a model of the molecular structure of this, the gene-carrying substance\"\n",
      "                },\n",
      "                {\n",
      "                    \"answer\": \"species\",\n",
      "                    \"category\": \"SCIENCE\",\n",
      "                    \"question\": \"2000 news: the Gunnison sage grouse isn't just another northern sage grouse, but a new one of this classification\"\n",
      "                }\n",
      "            ]\n",
      "        }\n",
      "    }\n",
      "}\n"
     ]
    }
   ],
   "source": [
    "nearText = {\"concepts\": [\"biology\"]}\n",
    "\n",
    "result = (\n",
    "    client.query\n",
    "    .get(\"Question\", [\"question\", \"answer\", \"category\"])\n",
    "    .with_near_text(nearText)\n",
    "    .with_limit(2)\n",
    "    .do()\n",
    ")\n",
    "\n",
    "print(json.dumps(result, indent=4))"
   ]
  },
  {
   "cell_type": "code",
   "execution_count": null,
   "id": "a05792a7-5ccc-4cac-88d7-ca0d47e7c99a",
   "metadata": {},
   "outputs": [],
   "source": []
  }
 ],
 "metadata": {
  "kernelspec": {
   "display_name": "Python 3",
   "language": "python",
   "name": "python3"
  },
  "language_info": {
   "codemirror_mode": {
    "name": "ipython",
    "version": 3
   },
   "file_extension": ".py",
   "mimetype": "text/x-python",
   "name": "python",
   "nbconvert_exporter": "python",
   "pygments_lexer": "ipython3",
   "version": "3.9.12 (main, Apr  5 2022, 01:52:34) \n[Clang 12.0.0 ]"
  },
  "vscode": {
   "interpreter": {
    "hash": "b54d4ba99b24d6af6c6e2318c036f036af52db3070df9ef128d3a87bd5db1748"
   }
  }
 },
 "nbformat": 4,
 "nbformat_minor": 5
}
